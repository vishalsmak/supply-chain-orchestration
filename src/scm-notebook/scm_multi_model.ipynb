{
 "cells": [
  {
   "cell_type": "code",
   "execution_count": 3,
   "metadata": {},
   "outputs": [
    {
     "data": {
      "text/plain": [
       "['/Users/vishal/Documents/code/supply-chain-orchestration/src/scm-notebook',\n",
       " '/Users/vishal/opt/anaconda3/lib/python38.zip',\n",
       " '/Users/vishal/opt/anaconda3/lib/python3.8',\n",
       " '/Users/vishal/opt/anaconda3/lib/python3.8/lib-dynload',\n",
       " '',\n",
       " '/Users/vishal/Documents/code/supply-chain-orchestration/src/venv/lib/python3.8/site-packages']"
      ]
     },
     "execution_count": 3,
     "metadata": {},
     "output_type": "execute_result"
    }
   ],
   "source": [
    "import sys\n",
    "sys.path"
   ]
  },
  {
   "cell_type": "markdown",
   "metadata": {
    "papermill": {
     "duration": 0.009321,
     "end_time": "2020-08-26T14:44:44.493355",
     "exception": false,
     "start_time": "2020-08-26T14:44:44.484034",
     "status": "completed"
    },
    "tags": []
   },
   "source": [
    " # E-Commerce Goods Shipment Duration prediction and Estimating Late Delivery Risk\n",
    "\n",
    "E-commerce goods Late delivery risk identification by predicting fastest and normal Shipping Durations. The Decision Tree model built by us, will enable E-commerce and Goods/products delivery industries to identify the 'risk of late delivery' and predict the fastest and normal duration of goods shipment for their Inland and foreign clients/ customers/buyers.\n",
    "\n",
    "# GOAL :\n",
    "*  Building a Multi-Output Decision Tree Regressor to determine the maximum range of shipping time, by predicting the Fastest and Normal duration for shipping of      goods for both Inland and International customers.\n",
    "*  Building a Binary Classifier to classify orders with high probabilty of late delivery (Late Delivery Risk analyser).\n"
   ]
  },
  {
   "cell_type": "markdown",
   "metadata": {
    "papermill": {
     "duration": 0.007789,
     "end_time": "2020-08-26T14:44:44.526597",
     "exception": false,
     "start_time": "2020-08-26T14:44:44.518808",
     "status": "completed"
    },
    "tags": []
   },
   "source": [
    "# 1) IMPORTING LIBRARIES AND PACKAGES"
   ]
  },
  {
   "cell_type": "code",
   "execution_count": 56,
   "metadata": {
    "_cell_guid": "b1076dfc-b9ad-4769-8c92-a6c4dae69d19",
    "_uuid": "8f2839f25d086af736a60e9eeb907d3b93b6e0e5",
    "execution": {
     "iopub.execute_input": "2020-08-26T14:44:44.551960Z",
     "iopub.status.busy": "2020-08-26T14:44:44.551300Z",
     "iopub.status.idle": "2020-08-26T14:44:46.134129Z",
     "shell.execute_reply": "2020-08-26T14:44:46.133491Z"
    },
    "papermill": {
     "duration": 1.599509,
     "end_time": "2020-08-26T14:44:46.134253",
     "exception": false,
     "start_time": "2020-08-26T14:44:44.534744",
     "status": "completed"
    },
    "tags": []
   },
   "outputs": [],
   "source": [
    "import warnings\n",
    "warnings.filterwarnings(\"ignore\")\n",
    "import numpy as np\n",
    "import pandas as pd\n",
    "import pickle\n",
    "from sklearn import preprocessing\n",
    "from sklearn import model_selection\n",
    "from sklearn.tree import DecisionTreeRegressor\n",
    "from sklearn.metrics import roc_auc_score,r2_score,mean_absolute_error,mean_squared_error,accuracy_score,classification_report,confusion_matrix\n",
    "import seaborn as sns\n",
    "import matplotlib.pyplot as plt"
   ]
  },
  {
   "cell_type": "markdown",
   "metadata": {
    "papermill": {
     "duration": 0.007679,
     "end_time": "2020-08-26T14:44:46.150471",
     "exception": false,
     "start_time": "2020-08-26T14:44:46.142792",
     "status": "completed"
    },
    "tags": []
   },
   "source": [
    "# 2) DATASET IMPORTING"
   ]
  },
  {
   "cell_type": "code",
   "execution_count": 5,
   "metadata": {
    "_cell_guid": "79c7e3d0-c299-4dcb-8224-4455121ee9b0",
    "_uuid": "d629ff2d2480ee46fbb7e2d37f6b5fab8052498a",
    "execution": {
     "iopub.execute_input": "2020-08-26T14:44:46.172507Z",
     "iopub.status.busy": "2020-08-26T14:44:46.171756Z",
     "iopub.status.idle": "2020-08-26T14:44:48.635450Z",
     "shell.execute_reply": "2020-08-26T14:44:48.636202Z"
    },
    "papermill": {
     "duration": 2.477909,
     "end_time": "2020-08-26T14:44:48.636382",
     "exception": false,
     "start_time": "2020-08-26T14:44:46.158473",
     "status": "completed"
    },
    "tags": []
   },
   "outputs": [
    {
     "data": {
      "text/html": [
       "<div>\n",
       "<style scoped>\n",
       "    .dataframe tbody tr th:only-of-type {\n",
       "        vertical-align: middle;\n",
       "    }\n",
       "\n",
       "    .dataframe tbody tr th {\n",
       "        vertical-align: top;\n",
       "    }\n",
       "\n",
       "    .dataframe thead th {\n",
       "        text-align: right;\n",
       "    }\n",
       "</style>\n",
       "<table border=\"1\" class=\"dataframe\">\n",
       "  <thead>\n",
       "    <tr style=\"text-align: right;\">\n",
       "      <th></th>\n",
       "      <th>Type</th>\n",
       "      <th>Days for shipping (real)</th>\n",
       "      <th>Days for shipment (scheduled)</th>\n",
       "      <th>Benefit per order</th>\n",
       "      <th>Sales per customer</th>\n",
       "      <th>Delivery Status</th>\n",
       "      <th>Late_delivery_risk</th>\n",
       "      <th>Category Id</th>\n",
       "      <th>Category Name</th>\n",
       "      <th>Customer City</th>\n",
       "      <th>Customer Country</th>\n",
       "      <th>Customer Email</th>\n",
       "      <th>Customer Fname</th>\n",
       "      <th>Customer Id</th>\n",
       "      <th>Customer Lname</th>\n",
       "      <th>Customer Password</th>\n",
       "      <th>Customer Segment</th>\n",
       "      <th>Customer State</th>\n",
       "      <th>Customer Street</th>\n",
       "      <th>Customer Zipcode</th>\n",
       "      <th>Department Id</th>\n",
       "      <th>Department Name</th>\n",
       "      <th>Latitude</th>\n",
       "      <th>Longitude</th>\n",
       "      <th>Market</th>\n",
       "      <th>Order City</th>\n",
       "      <th>Order Country</th>\n",
       "      <th>Order Customer Id</th>\n",
       "      <th>order date (DateOrders)</th>\n",
       "      <th>Order Id</th>\n",
       "      <th>Order Item Cardprod Id</th>\n",
       "      <th>Order Item Discount</th>\n",
       "      <th>Order Item Discount Rate</th>\n",
       "      <th>Order Item Id</th>\n",
       "      <th>Order Item Product Price</th>\n",
       "      <th>Order Item Profit Ratio</th>\n",
       "      <th>Order Item Quantity</th>\n",
       "      <th>Sales</th>\n",
       "      <th>Order Item Total</th>\n",
       "      <th>Order Profit Per Order</th>\n",
       "      <th>Order Region</th>\n",
       "      <th>Order State</th>\n",
       "      <th>Order Status</th>\n",
       "      <th>Order Zipcode</th>\n",
       "      <th>Product Card Id</th>\n",
       "      <th>Product Category Id</th>\n",
       "      <th>Product Description</th>\n",
       "      <th>Product Image</th>\n",
       "      <th>Product Name</th>\n",
       "      <th>Product Price</th>\n",
       "      <th>Product Status</th>\n",
       "      <th>shipping date (DateOrders)</th>\n",
       "      <th>Shipping Mode</th>\n",
       "    </tr>\n",
       "  </thead>\n",
       "  <tbody>\n",
       "    <tr>\n",
       "      <th>0</th>\n",
       "      <td>DEBIT</td>\n",
       "      <td>3</td>\n",
       "      <td>4</td>\n",
       "      <td>91.250000</td>\n",
       "      <td>314.640015</td>\n",
       "      <td>Advance shipping</td>\n",
       "      <td>0</td>\n",
       "      <td>73</td>\n",
       "      <td>Sporting Goods</td>\n",
       "      <td>Caguas</td>\n",
       "      <td>Puerto Rico</td>\n",
       "      <td>XXXXXXXXX</td>\n",
       "      <td>Cally</td>\n",
       "      <td>20755</td>\n",
       "      <td>Holloway</td>\n",
       "      <td>XXXXXXXXX</td>\n",
       "      <td>Consumer</td>\n",
       "      <td>PR</td>\n",
       "      <td>5365 Noble Nectar Island</td>\n",
       "      <td>725.0</td>\n",
       "      <td>2</td>\n",
       "      <td>Fitness</td>\n",
       "      <td>18.251453</td>\n",
       "      <td>-66.037056</td>\n",
       "      <td>Pacific Asia</td>\n",
       "      <td>Bekasi</td>\n",
       "      <td>Indonesia</td>\n",
       "      <td>20755</td>\n",
       "      <td>1/31/2018 22:56</td>\n",
       "      <td>77202</td>\n",
       "      <td>1360</td>\n",
       "      <td>13.110000</td>\n",
       "      <td>0.04</td>\n",
       "      <td>180517</td>\n",
       "      <td>327.75</td>\n",
       "      <td>0.29</td>\n",
       "      <td>1</td>\n",
       "      <td>327.75</td>\n",
       "      <td>314.640015</td>\n",
       "      <td>91.250000</td>\n",
       "      <td>Southeast Asia</td>\n",
       "      <td>Java Occidental</td>\n",
       "      <td>COMPLETE</td>\n",
       "      <td>NaN</td>\n",
       "      <td>1360</td>\n",
       "      <td>73</td>\n",
       "      <td>NaN</td>\n",
       "      <td>http://images.acmesports.sports/Smart+watch</td>\n",
       "      <td>Smart watch</td>\n",
       "      <td>327.75</td>\n",
       "      <td>0</td>\n",
       "      <td>2/3/2018 22:56</td>\n",
       "      <td>Standard Class</td>\n",
       "    </tr>\n",
       "    <tr>\n",
       "      <th>1</th>\n",
       "      <td>TRANSFER</td>\n",
       "      <td>5</td>\n",
       "      <td>4</td>\n",
       "      <td>-249.089996</td>\n",
       "      <td>311.359985</td>\n",
       "      <td>Late delivery</td>\n",
       "      <td>1</td>\n",
       "      <td>73</td>\n",
       "      <td>Sporting Goods</td>\n",
       "      <td>Caguas</td>\n",
       "      <td>Puerto Rico</td>\n",
       "      <td>XXXXXXXXX</td>\n",
       "      <td>Irene</td>\n",
       "      <td>19492</td>\n",
       "      <td>Luna</td>\n",
       "      <td>XXXXXXXXX</td>\n",
       "      <td>Consumer</td>\n",
       "      <td>PR</td>\n",
       "      <td>2679 Rustic Loop</td>\n",
       "      <td>725.0</td>\n",
       "      <td>2</td>\n",
       "      <td>Fitness</td>\n",
       "      <td>18.279451</td>\n",
       "      <td>-66.037064</td>\n",
       "      <td>Pacific Asia</td>\n",
       "      <td>Bikaner</td>\n",
       "      <td>India</td>\n",
       "      <td>19492</td>\n",
       "      <td>1/13/2018 12:27</td>\n",
       "      <td>75939</td>\n",
       "      <td>1360</td>\n",
       "      <td>16.389999</td>\n",
       "      <td>0.05</td>\n",
       "      <td>179254</td>\n",
       "      <td>327.75</td>\n",
       "      <td>-0.80</td>\n",
       "      <td>1</td>\n",
       "      <td>327.75</td>\n",
       "      <td>311.359985</td>\n",
       "      <td>-249.089996</td>\n",
       "      <td>South Asia</td>\n",
       "      <td>Rajastán</td>\n",
       "      <td>PENDING</td>\n",
       "      <td>NaN</td>\n",
       "      <td>1360</td>\n",
       "      <td>73</td>\n",
       "      <td>NaN</td>\n",
       "      <td>http://images.acmesports.sports/Smart+watch</td>\n",
       "      <td>Smart watch</td>\n",
       "      <td>327.75</td>\n",
       "      <td>0</td>\n",
       "      <td>1/18/2018 12:27</td>\n",
       "      <td>Standard Class</td>\n",
       "    </tr>\n",
       "    <tr>\n",
       "      <th>2</th>\n",
       "      <td>CASH</td>\n",
       "      <td>4</td>\n",
       "      <td>4</td>\n",
       "      <td>-247.779999</td>\n",
       "      <td>309.720001</td>\n",
       "      <td>Shipping on time</td>\n",
       "      <td>0</td>\n",
       "      <td>73</td>\n",
       "      <td>Sporting Goods</td>\n",
       "      <td>San Jose</td>\n",
       "      <td>EE. UU.</td>\n",
       "      <td>XXXXXXXXX</td>\n",
       "      <td>Gillian</td>\n",
       "      <td>19491</td>\n",
       "      <td>Maldonado</td>\n",
       "      <td>XXXXXXXXX</td>\n",
       "      <td>Consumer</td>\n",
       "      <td>CA</td>\n",
       "      <td>8510 Round Bear Gate</td>\n",
       "      <td>95125.0</td>\n",
       "      <td>2</td>\n",
       "      <td>Fitness</td>\n",
       "      <td>37.292233</td>\n",
       "      <td>-121.881279</td>\n",
       "      <td>Pacific Asia</td>\n",
       "      <td>Bikaner</td>\n",
       "      <td>India</td>\n",
       "      <td>19491</td>\n",
       "      <td>1/13/2018 12:06</td>\n",
       "      <td>75938</td>\n",
       "      <td>1360</td>\n",
       "      <td>18.030001</td>\n",
       "      <td>0.06</td>\n",
       "      <td>179253</td>\n",
       "      <td>327.75</td>\n",
       "      <td>-0.80</td>\n",
       "      <td>1</td>\n",
       "      <td>327.75</td>\n",
       "      <td>309.720001</td>\n",
       "      <td>-247.779999</td>\n",
       "      <td>South Asia</td>\n",
       "      <td>Rajastán</td>\n",
       "      <td>CLOSED</td>\n",
       "      <td>NaN</td>\n",
       "      <td>1360</td>\n",
       "      <td>73</td>\n",
       "      <td>NaN</td>\n",
       "      <td>http://images.acmesports.sports/Smart+watch</td>\n",
       "      <td>Smart watch</td>\n",
       "      <td>327.75</td>\n",
       "      <td>0</td>\n",
       "      <td>1/17/2018 12:06</td>\n",
       "      <td>Standard Class</td>\n",
       "    </tr>\n",
       "    <tr>\n",
       "      <th>3</th>\n",
       "      <td>DEBIT</td>\n",
       "      <td>3</td>\n",
       "      <td>4</td>\n",
       "      <td>22.860001</td>\n",
       "      <td>304.809998</td>\n",
       "      <td>Advance shipping</td>\n",
       "      <td>0</td>\n",
       "      <td>73</td>\n",
       "      <td>Sporting Goods</td>\n",
       "      <td>Los Angeles</td>\n",
       "      <td>EE. UU.</td>\n",
       "      <td>XXXXXXXXX</td>\n",
       "      <td>Tana</td>\n",
       "      <td>19490</td>\n",
       "      <td>Tate</td>\n",
       "      <td>XXXXXXXXX</td>\n",
       "      <td>Home Office</td>\n",
       "      <td>CA</td>\n",
       "      <td>3200 Amber Bend</td>\n",
       "      <td>90027.0</td>\n",
       "      <td>2</td>\n",
       "      <td>Fitness</td>\n",
       "      <td>34.125946</td>\n",
       "      <td>-118.291016</td>\n",
       "      <td>Pacific Asia</td>\n",
       "      <td>Townsville</td>\n",
       "      <td>Australia</td>\n",
       "      <td>19490</td>\n",
       "      <td>1/13/2018 11:45</td>\n",
       "      <td>75937</td>\n",
       "      <td>1360</td>\n",
       "      <td>22.940001</td>\n",
       "      <td>0.07</td>\n",
       "      <td>179252</td>\n",
       "      <td>327.75</td>\n",
       "      <td>0.08</td>\n",
       "      <td>1</td>\n",
       "      <td>327.75</td>\n",
       "      <td>304.809998</td>\n",
       "      <td>22.860001</td>\n",
       "      <td>Oceania</td>\n",
       "      <td>Queensland</td>\n",
       "      <td>COMPLETE</td>\n",
       "      <td>NaN</td>\n",
       "      <td>1360</td>\n",
       "      <td>73</td>\n",
       "      <td>NaN</td>\n",
       "      <td>http://images.acmesports.sports/Smart+watch</td>\n",
       "      <td>Smart watch</td>\n",
       "      <td>327.75</td>\n",
       "      <td>0</td>\n",
       "      <td>1/16/2018 11:45</td>\n",
       "      <td>Standard Class</td>\n",
       "    </tr>\n",
       "    <tr>\n",
       "      <th>4</th>\n",
       "      <td>PAYMENT</td>\n",
       "      <td>2</td>\n",
       "      <td>4</td>\n",
       "      <td>134.210007</td>\n",
       "      <td>298.250000</td>\n",
       "      <td>Advance shipping</td>\n",
       "      <td>0</td>\n",
       "      <td>73</td>\n",
       "      <td>Sporting Goods</td>\n",
       "      <td>Caguas</td>\n",
       "      <td>Puerto Rico</td>\n",
       "      <td>XXXXXXXXX</td>\n",
       "      <td>Orli</td>\n",
       "      <td>19489</td>\n",
       "      <td>Hendricks</td>\n",
       "      <td>XXXXXXXXX</td>\n",
       "      <td>Corporate</td>\n",
       "      <td>PR</td>\n",
       "      <td>8671 Iron Anchor Corners</td>\n",
       "      <td>725.0</td>\n",
       "      <td>2</td>\n",
       "      <td>Fitness</td>\n",
       "      <td>18.253769</td>\n",
       "      <td>-66.037048</td>\n",
       "      <td>Pacific Asia</td>\n",
       "      <td>Townsville</td>\n",
       "      <td>Australia</td>\n",
       "      <td>19489</td>\n",
       "      <td>1/13/2018 11:24</td>\n",
       "      <td>75936</td>\n",
       "      <td>1360</td>\n",
       "      <td>29.500000</td>\n",
       "      <td>0.09</td>\n",
       "      <td>179251</td>\n",
       "      <td>327.75</td>\n",
       "      <td>0.45</td>\n",
       "      <td>1</td>\n",
       "      <td>327.75</td>\n",
       "      <td>298.250000</td>\n",
       "      <td>134.210007</td>\n",
       "      <td>Oceania</td>\n",
       "      <td>Queensland</td>\n",
       "      <td>PENDING_PAYMENT</td>\n",
       "      <td>NaN</td>\n",
       "      <td>1360</td>\n",
       "      <td>73</td>\n",
       "      <td>NaN</td>\n",
       "      <td>http://images.acmesports.sports/Smart+watch</td>\n",
       "      <td>Smart watch</td>\n",
       "      <td>327.75</td>\n",
       "      <td>0</td>\n",
       "      <td>1/15/2018 11:24</td>\n",
       "      <td>Standard Class</td>\n",
       "    </tr>\n",
       "  </tbody>\n",
       "</table>\n",
       "</div>"
      ],
      "text/plain": [
       "       Type  Days for shipping (real)  Days for shipment (scheduled)  \\\n",
       "0     DEBIT                         3                              4   \n",
       "1  TRANSFER                         5                              4   \n",
       "2      CASH                         4                              4   \n",
       "3     DEBIT                         3                              4   \n",
       "4   PAYMENT                         2                              4   \n",
       "\n",
       "   Benefit per order  Sales per customer   Delivery Status  \\\n",
       "0          91.250000          314.640015  Advance shipping   \n",
       "1        -249.089996          311.359985     Late delivery   \n",
       "2        -247.779999          309.720001  Shipping on time   \n",
       "3          22.860001          304.809998  Advance shipping   \n",
       "4         134.210007          298.250000  Advance shipping   \n",
       "\n",
       "   Late_delivery_risk  Category Id   Category Name Customer City  \\\n",
       "0                   0           73  Sporting Goods        Caguas   \n",
       "1                   1           73  Sporting Goods        Caguas   \n",
       "2                   0           73  Sporting Goods      San Jose   \n",
       "3                   0           73  Sporting Goods   Los Angeles   \n",
       "4                   0           73  Sporting Goods        Caguas   \n",
       "\n",
       "  Customer Country Customer Email Customer Fname  Customer Id Customer Lname  \\\n",
       "0      Puerto Rico      XXXXXXXXX          Cally        20755       Holloway   \n",
       "1      Puerto Rico      XXXXXXXXX          Irene        19492           Luna   \n",
       "2          EE. UU.      XXXXXXXXX        Gillian        19491      Maldonado   \n",
       "3          EE. UU.      XXXXXXXXX           Tana        19490           Tate   \n",
       "4      Puerto Rico      XXXXXXXXX           Orli        19489      Hendricks   \n",
       "\n",
       "  Customer Password Customer Segment Customer State           Customer Street  \\\n",
       "0         XXXXXXXXX         Consumer             PR  5365 Noble Nectar Island   \n",
       "1         XXXXXXXXX         Consumer             PR          2679 Rustic Loop   \n",
       "2         XXXXXXXXX         Consumer             CA      8510 Round Bear Gate   \n",
       "3         XXXXXXXXX      Home Office             CA           3200 Amber Bend   \n",
       "4         XXXXXXXXX        Corporate             PR  8671 Iron Anchor Corners   \n",
       "\n",
       "   Customer Zipcode  Department Id Department Name   Latitude   Longitude  \\\n",
       "0             725.0              2         Fitness  18.251453  -66.037056   \n",
       "1             725.0              2         Fitness  18.279451  -66.037064   \n",
       "2           95125.0              2         Fitness  37.292233 -121.881279   \n",
       "3           90027.0              2         Fitness  34.125946 -118.291016   \n",
       "4             725.0              2         Fitness  18.253769  -66.037048   \n",
       "\n",
       "         Market  Order City Order Country  Order Customer Id  \\\n",
       "0  Pacific Asia      Bekasi     Indonesia              20755   \n",
       "1  Pacific Asia     Bikaner         India              19492   \n",
       "2  Pacific Asia     Bikaner         India              19491   \n",
       "3  Pacific Asia  Townsville     Australia              19490   \n",
       "4  Pacific Asia  Townsville     Australia              19489   \n",
       "\n",
       "  order date (DateOrders)  Order Id  Order Item Cardprod Id  \\\n",
       "0         1/31/2018 22:56     77202                    1360   \n",
       "1         1/13/2018 12:27     75939                    1360   \n",
       "2         1/13/2018 12:06     75938                    1360   \n",
       "3         1/13/2018 11:45     75937                    1360   \n",
       "4         1/13/2018 11:24     75936                    1360   \n",
       "\n",
       "   Order Item Discount  Order Item Discount Rate  Order Item Id  \\\n",
       "0            13.110000                      0.04         180517   \n",
       "1            16.389999                      0.05         179254   \n",
       "2            18.030001                      0.06         179253   \n",
       "3            22.940001                      0.07         179252   \n",
       "4            29.500000                      0.09         179251   \n",
       "\n",
       "   Order Item Product Price  Order Item Profit Ratio  Order Item Quantity  \\\n",
       "0                    327.75                     0.29                    1   \n",
       "1                    327.75                    -0.80                    1   \n",
       "2                    327.75                    -0.80                    1   \n",
       "3                    327.75                     0.08                    1   \n",
       "4                    327.75                     0.45                    1   \n",
       "\n",
       "    Sales  Order Item Total  Order Profit Per Order    Order Region  \\\n",
       "0  327.75        314.640015               91.250000  Southeast Asia   \n",
       "1  327.75        311.359985             -249.089996      South Asia   \n",
       "2  327.75        309.720001             -247.779999      South Asia   \n",
       "3  327.75        304.809998               22.860001         Oceania   \n",
       "4  327.75        298.250000              134.210007         Oceania   \n",
       "\n",
       "       Order State     Order Status  Order Zipcode  Product Card Id  \\\n",
       "0  Java Occidental         COMPLETE            NaN             1360   \n",
       "1         Rajastán          PENDING            NaN             1360   \n",
       "2         Rajastán           CLOSED            NaN             1360   \n",
       "3       Queensland         COMPLETE            NaN             1360   \n",
       "4       Queensland  PENDING_PAYMENT            NaN             1360   \n",
       "\n",
       "   Product Category Id  Product Description  \\\n",
       "0                   73                  NaN   \n",
       "1                   73                  NaN   \n",
       "2                   73                  NaN   \n",
       "3                   73                  NaN   \n",
       "4                   73                  NaN   \n",
       "\n",
       "                                  Product Image  Product Name  Product Price  \\\n",
       "0  http://images.acmesports.sports/Smart+watch   Smart watch          327.75   \n",
       "1  http://images.acmesports.sports/Smart+watch   Smart watch          327.75   \n",
       "2  http://images.acmesports.sports/Smart+watch   Smart watch          327.75   \n",
       "3  http://images.acmesports.sports/Smart+watch   Smart watch          327.75   \n",
       "4  http://images.acmesports.sports/Smart+watch   Smart watch          327.75   \n",
       "\n",
       "   Product Status shipping date (DateOrders)   Shipping Mode  \n",
       "0               0             2/3/2018 22:56  Standard Class  \n",
       "1               0            1/18/2018 12:27  Standard Class  \n",
       "2               0            1/17/2018 12:06  Standard Class  \n",
       "3               0            1/16/2018 11:45  Standard Class  \n",
       "4               0            1/15/2018 11:24  Standard Class  "
      ]
     },
     "execution_count": 5,
     "metadata": {},
     "output_type": "execute_result"
    }
   ],
   "source": [
    "data = pd.read_csv('/Users/vishal/Documents/code/supply-chain-orchestration/src/scm-dataset/SupplyChainDataset.csv',header= 0,encoding='unicode_escape')\n",
    "pd.set_option('display.max_columns',None)\n",
    "data.head()"
   ]
  },
  {
   "cell_type": "markdown",
   "metadata": {
    "papermill": {
     "duration": 0.013592,
     "end_time": "2020-08-26T14:44:48.664538",
     "exception": false,
     "start_time": "2020-08-26T14:44:48.650946",
     "status": "completed"
    },
    "tags": []
   },
   "source": [
    "# 3) EXPLORATORY DATA ANALYSIS [EDA]"
   ]
  },
  {
   "cell_type": "code",
   "execution_count": 6,
   "metadata": {
    "execution": {
     "iopub.execute_input": "2020-08-26T14:44:48.702213Z",
     "iopub.status.busy": "2020-08-26T14:44:48.701502Z",
     "iopub.status.idle": "2020-08-26T14:44:48.711609Z",
     "shell.execute_reply": "2020-08-26T14:44:48.710875Z"
    },
    "papermill": {
     "duration": 0.032965,
     "end_time": "2020-08-26T14:44:48.711764",
     "exception": false,
     "start_time": "2020-08-26T14:44:48.678799",
     "status": "completed"
    },
    "tags": []
   },
   "outputs": [
    {
     "name": "stdout",
     "output_type": "stream",
     "text": [
      "1) Number of columns are :  53\n",
      "2) Number of rows are :  180519\n",
      "3) Total number of data-points : 9567507\n",
      "4) Count of Numerical Features : 29\n",
      "5) Count of Categorical Features : 24\n"
     ]
    }
   ],
   "source": [
    "def data_info(data):\n",
    "    print('1) Number of columns are : ',data.shape[1])\n",
    "    print('2) Number of rows are : ',data.shape[0])\n",
    "    print('3) Total number of data-points :',data.size)\n",
    "    numerical_features = [f for f in data.columns if data[f].dtypes!='O']\n",
    "    print('4) Count of Numerical Features :',len(numerical_features))\n",
    "    cat_features = [c for c in data.columns if data[c].dtypes=='O']\n",
    "    print('5) Count of Categorical Features :',len(cat_features))\n",
    "data_info(data)"
   ]
  },
  {
   "cell_type": "markdown",
   "metadata": {
    "papermill": {
     "duration": 0.015723,
     "end_time": "2020-08-26T14:44:48.742742",
     "exception": false,
     "start_time": "2020-08-26T14:44:48.727019",
     "status": "completed"
    },
    "tags": []
   },
   "source": [
    "# 4) Missing Value Identification"
   ]
  },
  {
   "cell_type": "code",
   "execution_count": 7,
   "metadata": {
    "execution": {
     "iopub.execute_input": "2020-08-26T14:44:48.781148Z",
     "iopub.status.busy": "2020-08-26T14:44:48.780426Z",
     "iopub.status.idle": "2020-08-26T14:44:49.250940Z",
     "shell.execute_reply": "2020-08-26T14:44:49.251470Z"
    },
    "papermill": {
     "duration": 0.494677,
     "end_time": "2020-08-26T14:44:49.251612",
     "exception": false,
     "start_time": "2020-08-26T14:44:48.756935",
     "status": "completed"
    },
    "tags": []
   },
   "outputs": [
    {
     "name": "stdout",
     "output_type": "stream",
     "text": [
      "Percentage of Total Missing Values is  3.51 %\n",
      "Missing Value Estimation :\n",
      "The Feature  Customer Lname  has 8 missing values\n",
      "The Feature  Customer Zipcode  has 3 missing values\n",
      "The Feature  Order Zipcode  has 155679 missing values\n",
      "The Feature  Product Description  has 180519 missing values\n"
     ]
    }
   ],
   "source": [
    "def features_with_missing_values(data):\n",
    "    x = data.isnull().sum().sum()/(data.shape[0]*data.shape[1])*100\n",
    "    print('Percentage of Total Missing Values is ' ,round(x,2) ,'%')\n",
    "    print('Missing Value Estimation :')\n",
    "    for i in data.columns:\n",
    "        if data[i].isna().sum()>0:\n",
    "            print('The Feature ',i,' has '+ str(data[i].isna().sum()) + ' missing values')\n",
    "            \n",
    "features_with_missing_values(data)"
   ]
  },
  {
   "cell_type": "code",
   "execution_count": 8,
   "metadata": {
    "execution": {
     "iopub.execute_input": "2020-08-26T14:44:49.280376Z",
     "iopub.status.busy": "2020-08-26T14:44:49.277362Z",
     "iopub.status.idle": "2020-08-26T14:44:54.999728Z",
     "shell.execute_reply": "2020-08-26T14:44:54.999194Z"
    },
    "papermill": {
     "duration": 5.738881,
     "end_time": "2020-08-26T14:44:54.999872",
     "exception": false,
     "start_time": "2020-08-26T14:44:49.260991",
     "status": "completed"
    },
    "tags": []
   },
   "outputs": [
    {
     "data": {
      "text/plain": [
       "<AxesSubplot:xlabel='Days for shipment (scheduled)', ylabel='Days for shipping (real)'>"
      ]
     },
     "execution_count": 8,
     "metadata": {},
     "output_type": "execute_result"
    },
    {
     "data": {
      "image/png": "[encoded data removed]",
      "text/plain": [
       "<Figure size 432x288 with 1 Axes>"
      ]
     },
     "metadata": {
      "needs_background": "light"
     },
     "output_type": "display_data"
    }
   ],
   "source": [
    "# Target value analysis\n",
    "sns.set()\n",
    "sns.scatterplot(x=\"Days for shipment (scheduled)\",y=\"Days for shipping (real)\",hue=\"Late_delivery_risk\",data=data)"
   ]
  },
  {
   "cell_type": "code",
   "execution_count": 80,
   "metadata": {},
   "outputs": [],
   "source": [
    "# test\n",
    "dataset = data\n",
    "\n",
    "market = dataset.groupby('Market')  # Grouping by market\n",
    "region = dataset.groupby('Order Region')\n",
    "category = dataset.groupby('Category Name')\n",
    "department = dataset.groupby('Department Name')\n",
    "country = dataset.groupby('Order Country') # Grouping by country name\n",
    "\n",
    "\n",
    "#print(country.head())\n",
    "#cat_country = dataset(['Category Name', 'Order Country', 'Order Item Quantity'])\n",
    "#cat_country = dataset.groupby(['Category Name', 'Order Country'])['Order Country'].count().reset_index(name=\"count\")\n",
    "#cat_country = dataset[['Category Name', 'Order Country']]\n"
   ]
  },
  {
   "cell_type": "code",
   "execution_count": 39,
   "metadata": {
    "scrolled": true
   },
   "outputs": [
    {
     "data": {
      "text/html": [
       "<div>\n",
       "<style scoped>\n",
       "    .dataframe tbody tr th:only-of-type {\n",
       "        vertical-align: middle;\n",
       "    }\n",
       "\n",
       "    .dataframe tbody tr th {\n",
       "        vertical-align: top;\n",
       "    }\n",
       "\n",
       "    .dataframe thead th {\n",
       "        text-align: right;\n",
       "    }\n",
       "</style>\n",
       "<table border=\"1\" class=\"dataframe\">\n",
       "  <thead>\n",
       "    <tr style=\"text-align: right;\">\n",
       "      <th></th>\n",
       "      <th>Category Name</th>\n",
       "      <th>Order Country</th>\n",
       "      <th>Order Item Quantity</th>\n",
       "    </tr>\n",
       "  </thead>\n",
       "  <tbody>\n",
       "    <tr>\n",
       "      <th>0</th>\n",
       "      <td>Sporting Goods</td>\n",
       "      <td>Indonesia</td>\n",
       "      <td>1</td>\n",
       "    </tr>\n",
       "    <tr>\n",
       "      <th>1</th>\n",
       "      <td>Sporting Goods</td>\n",
       "      <td>India</td>\n",
       "      <td>1</td>\n",
       "    </tr>\n",
       "    <tr>\n",
       "      <th>2</th>\n",
       "      <td>Sporting Goods</td>\n",
       "      <td>India</td>\n",
       "      <td>1</td>\n",
       "    </tr>\n",
       "    <tr>\n",
       "      <th>3</th>\n",
       "      <td>Sporting Goods</td>\n",
       "      <td>Australia</td>\n",
       "      <td>1</td>\n",
       "    </tr>\n",
       "    <tr>\n",
       "      <th>4</th>\n",
       "      <td>Sporting Goods</td>\n",
       "      <td>Australia</td>\n",
       "      <td>1</td>\n",
       "    </tr>\n",
       "  </tbody>\n",
       "</table>\n",
       "</div>"
      ],
      "text/plain": [
       "    Category Name Order Country  Order Item Quantity\n",
       "0  Sporting Goods     Indonesia                    1\n",
       "1  Sporting Goods         India                    1\n",
       "2  Sporting Goods         India                    1\n",
       "3  Sporting Goods     Australia                    1\n",
       "4  Sporting Goods     Australia                    1"
      ]
     },
     "execution_count": 39,
     "metadata": {},
     "output_type": "execute_result"
    }
   ],
   "source": [
    "test_df = dataset[['Category Name', 'Order Country', 'Order Item Quantity']].copy()\n",
    "test_df.head()"
   ]
  },
  {
   "cell_type": "code",
   "execution_count": 47,
   "metadata": {},
   "outputs": [
    {
     "data": {
      "text/html": [
       "<div>\n",
       "<style scoped>\n",
       "    .dataframe tbody tr th:only-of-type {\n",
       "        vertical-align: middle;\n",
       "    }\n",
       "\n",
       "    .dataframe tbody tr th {\n",
       "        vertical-align: top;\n",
       "    }\n",
       "\n",
       "    .dataframe thead th {\n",
       "        text-align: right;\n",
       "    }\n",
       "</style>\n",
       "<table border=\"1\" class=\"dataframe\">\n",
       "  <thead>\n",
       "    <tr style=\"text-align: right;\">\n",
       "      <th></th>\n",
       "      <th></th>\n",
       "      <th>Order Item Quantity</th>\n",
       "    </tr>\n",
       "    <tr>\n",
       "      <th>Category Name</th>\n",
       "      <th>Order Country</th>\n",
       "      <th></th>\n",
       "    </tr>\n",
       "  </thead>\n",
       "  <tbody>\n",
       "    <tr>\n",
       "      <th rowspan=\"5\" valign=\"top\">Accessories</th>\n",
       "      <th>Afganistán</th>\n",
       "      <td>1</td>\n",
       "    </tr>\n",
       "    <tr>\n",
       "      <th>Alemania</th>\n",
       "      <td>200</td>\n",
       "    </tr>\n",
       "    <tr>\n",
       "      <th>Angola</th>\n",
       "      <td>5</td>\n",
       "    </tr>\n",
       "    <tr>\n",
       "      <th>Arabia Saudí</th>\n",
       "      <td>36</td>\n",
       "    </tr>\n",
       "    <tr>\n",
       "      <th>Argelia</th>\n",
       "      <td>23</td>\n",
       "    </tr>\n",
       "    <tr>\n",
       "      <th>...</th>\n",
       "      <th>...</th>\n",
       "      <td>...</td>\n",
       "    </tr>\n",
       "    <tr>\n",
       "      <th rowspan=\"5\" valign=\"top\">Women's Golf Clubs</th>\n",
       "      <th>Reino Unido</th>\n",
       "      <td>23</td>\n",
       "    </tr>\n",
       "    <tr>\n",
       "      <th>República Dominicana</th>\n",
       "      <td>5</td>\n",
       "    </tr>\n",
       "    <tr>\n",
       "      <th>Suecia</th>\n",
       "      <td>10</td>\n",
       "    </tr>\n",
       "    <tr>\n",
       "      <th>Trinidad y Tobago</th>\n",
       "      <td>3</td>\n",
       "    </tr>\n",
       "    <tr>\n",
       "      <th>Venezuela</th>\n",
       "      <td>4</td>\n",
       "    </tr>\n",
       "  </tbody>\n",
       "</table>\n",
       "<p>3136 rows × 1 columns</p>\n",
       "</div>"
      ],
      "text/plain": [
       "                                         Order Item Quantity\n",
       "Category Name      Order Country                            \n",
       "Accessories        Afganistán                              1\n",
       "                   Alemania                              200\n",
       "                   Angola                                  5\n",
       "                   Arabia Saudí                           36\n",
       "                   Argelia                                23\n",
       "...                                                      ...\n",
       "Women's Golf Clubs Reino Unido                            23\n",
       "                   República Dominicana                    5\n",
       "                   Suecia                                 10\n",
       "                   Trinidad y Tobago                       3\n",
       "                   Venezuela                               4\n",
       "\n",
       "[3136 rows x 1 columns]"
      ]
     },
     "execution_count": 47,
     "metadata": {},
     "output_type": "execute_result"
    }
   ],
   "source": [
    "var = test_df.groupby(['Category Name', 'Order Country']).sum()\n",
    "var"
   ]
  },
  {
   "cell_type": "code",
   "execution_count": 49,
   "metadata": {},
   "outputs": [
    {
     "data": {
      "text/html": [
       "<div>\n",
       "<style scoped>\n",
       "    .dataframe tbody tr th:only-of-type {\n",
       "        vertical-align: middle;\n",
       "    }\n",
       "\n",
       "    .dataframe tbody tr th {\n",
       "        vertical-align: top;\n",
       "    }\n",
       "\n",
       "    .dataframe thead th {\n",
       "        text-align: right;\n",
       "    }\n",
       "</style>\n",
       "<table border=\"1\" class=\"dataframe\">\n",
       "  <thead>\n",
       "    <tr style=\"text-align: right;\">\n",
       "      <th></th>\n",
       "      <th>index</th>\n",
       "      <th>Category Name</th>\n",
       "      <th>Order Country</th>\n",
       "      <th>Order Item Quantity</th>\n",
       "    </tr>\n",
       "  </thead>\n",
       "  <tbody>\n",
       "    <tr>\n",
       "      <th>0</th>\n",
       "      <td>0</td>\n",
       "      <td>Accessories</td>\n",
       "      <td>Afganistán</td>\n",
       "      <td>1</td>\n",
       "    </tr>\n",
       "    <tr>\n",
       "      <th>1</th>\n",
       "      <td>1</td>\n",
       "      <td>Accessories</td>\n",
       "      <td>Alemania</td>\n",
       "      <td>200</td>\n",
       "    </tr>\n",
       "    <tr>\n",
       "      <th>2</th>\n",
       "      <td>2</td>\n",
       "      <td>Accessories</td>\n",
       "      <td>Angola</td>\n",
       "      <td>5</td>\n",
       "    </tr>\n",
       "    <tr>\n",
       "      <th>3</th>\n",
       "      <td>3</td>\n",
       "      <td>Accessories</td>\n",
       "      <td>Arabia Saudí</td>\n",
       "      <td>36</td>\n",
       "    </tr>\n",
       "    <tr>\n",
       "      <th>4</th>\n",
       "      <td>4</td>\n",
       "      <td>Accessories</td>\n",
       "      <td>Argelia</td>\n",
       "      <td>23</td>\n",
       "    </tr>\n",
       "    <tr>\n",
       "      <th>...</th>\n",
       "      <td>...</td>\n",
       "      <td>...</td>\n",
       "      <td>...</td>\n",
       "      <td>...</td>\n",
       "    </tr>\n",
       "    <tr>\n",
       "      <th>3131</th>\n",
       "      <td>3131</td>\n",
       "      <td>Women's Golf Clubs</td>\n",
       "      <td>Reino Unido</td>\n",
       "      <td>23</td>\n",
       "    </tr>\n",
       "    <tr>\n",
       "      <th>3132</th>\n",
       "      <td>3132</td>\n",
       "      <td>Women's Golf Clubs</td>\n",
       "      <td>República Dominicana</td>\n",
       "      <td>5</td>\n",
       "    </tr>\n",
       "    <tr>\n",
       "      <th>3133</th>\n",
       "      <td>3133</td>\n",
       "      <td>Women's Golf Clubs</td>\n",
       "      <td>Suecia</td>\n",
       "      <td>10</td>\n",
       "    </tr>\n",
       "    <tr>\n",
       "      <th>3134</th>\n",
       "      <td>3134</td>\n",
       "      <td>Women's Golf Clubs</td>\n",
       "      <td>Trinidad y Tobago</td>\n",
       "      <td>3</td>\n",
       "    </tr>\n",
       "    <tr>\n",
       "      <th>3135</th>\n",
       "      <td>3135</td>\n",
       "      <td>Women's Golf Clubs</td>\n",
       "      <td>Venezuela</td>\n",
       "      <td>4</td>\n",
       "    </tr>\n",
       "  </tbody>\n",
       "</table>\n",
       "<p>3136 rows × 4 columns</p>\n",
       "</div>"
      ],
      "text/plain": [
       "      index       Category Name         Order Country  Order Item Quantity\n",
       "0         0         Accessories            Afganistán                    1\n",
       "1         1         Accessories              Alemania                  200\n",
       "2         2         Accessories                Angola                    5\n",
       "3         3         Accessories          Arabia Saudí                   36\n",
       "4         4         Accessories               Argelia                   23\n",
       "...     ...                 ...                   ...                  ...\n",
       "3131   3131  Women's Golf Clubs           Reino Unido                   23\n",
       "3132   3132  Women's Golf Clubs  República Dominicana                    5\n",
       "3133   3133  Women's Golf Clubs                Suecia                   10\n",
       "3134   3134  Women's Golf Clubs     Trinidad y Tobago                    3\n",
       "3135   3135  Women's Golf Clubs             Venezuela                    4\n",
       "\n",
       "[3136 rows x 4 columns]"
      ]
     },
     "execution_count": 49,
     "metadata": {},
     "output_type": "execute_result"
    }
   ],
   "source": [
    "var = var.reset_index()\n",
    "var"
   ]
  },
  {
   "cell_type": "code",
   "execution_count": 104,
   "metadata": {
    "scrolled": false
   },
   "outputs": [
    {
     "name": "stdout",
     "output_type": "stream",
     "text": [
      "['Hunting & Shooting', 'Consumer Electronics', 'Golf Shoes', 'Sporting Goods', 'Computers', 'Hockey', 'Lacrosse', 'Health and Beauty', 'Baby ', 'Pet Supplies', 'Tennis & Racquet', 'Golf Gloves', 'Basketball', 'Fishing', \"Women's Apparel\", 'Soccer', \"Men's Clothing\", 'Baseball & Softball', 'Toys', \"Women's Golf Clubs\", 'Crafts', 'Cleats', 'Golf Bags & Carts', 'Garden', 'Camping & Hiking', 'Accessories', \"Kids' Golf Clubs\", 'Golf Apparel', 'Books ', 'Cardio Equipment', 'Trade-In', 'Boxing & MMA', \"Girls' Apparel\", 'Shop By Sport', 'Water Sports', 'Video Games', 'Cameras ', 'Indoor/Outdoor Games', 'Fitness Accessories', \"Men's Golf Clubs\", 'CDs ', 'Electronics', 'Strength Training', \"Children's Clothing\", 'As Seen on  TV!', \"Women's Clothing\", \"Men's Footwear\", 'Music', 'DVDs', 'Golf Balls']\n"
     ]
    }
   ],
   "source": [
    "category_list = list(set(var['Category Name'].tolist()))\n",
    "country_list = list(set(var['Order Country'].tolist()))\n",
    "print(category_list)"
   ]
  },
  {
   "cell_type": "code",
   "execution_count": 60,
   "metadata": {},
   "outputs": [],
   "source": [
    "category_to_index = dict(zip(category_list, np.arange(len(category_list))))\n",
    "country_to_index = dict(zip(country_list, np.arange(len(country_list))))"
   ]
  },
  {
   "cell_type": "code",
   "execution_count": 67,
   "metadata": {},
   "outputs": [],
   "source": [
    "output = np.zeros((len(country_to_index), len(category_to_index)))"
   ]
  },
  {
   "cell_type": "code",
   "execution_count": 70,
   "metadata": {},
   "outputs": [],
   "source": [
    "for index, row in var.iterrows():\n",
    "    #print(row['Order Country'], row['Category Name'], row['Order Item Quantity'])\n",
    "    cou = row['Order Country'] \n",
    "    cat = row['Category Name']\n",
    "    qty =  row['Order Item Quantity']\n",
    "    cou_idx = country_to_index[cou]\n",
    "    cat_idx = category_to_index[cat]\n",
    "    output[cou_idx, cat_idx] = qty\n"
   ]
  },
  {
   "cell_type": "code",
   "execution_count": 71,
   "metadata": {},
   "outputs": [
    {
     "data": {
      "text/plain": [
       "array([[ 6.,  0.,  0., ...,  0.,  0.,  0.],\n",
       "       [ 4.,  0.,  3., ...,  0.,  0.,  4.],\n",
       "       [ 5.,  0., 11., ...,  0.,  0., 48.],\n",
       "       ...,\n",
       "       [ 0.,  0.,  0., ...,  0.,  0.,  0.],\n",
       "       [ 1.,  0.,  2., ...,  0.,  0.,  4.],\n",
       "       [ 0.,  0.,  0., ...,  0.,  0.,  0.]])"
      ]
     },
     "execution_count": 71,
     "metadata": {},
     "output_type": "execute_result"
    }
   ],
   "source": [
    "output"
   ]
  },
  {
   "cell_type": "code",
   "execution_count": 74,
   "metadata": {
    "scrolled": false
   },
   "outputs": [],
   "source": [
    "final_df = pd.DataFrame(data=output, index=country_list, columns=category_list)"
   ]
  },
  {
   "cell_type": "code",
   "execution_count": 103,
   "metadata": {
    "scrolled": true
   },
   "outputs": [],
   "source": [
    "final_df.to_csv(\"geo_csv.csv\", encoding='utf-8')"
   ]
  },
  {
   "cell_type": "code",
   "execution_count": 95,
   "metadata": {},
   "outputs": [
    {
     "data": {
      "text/html": [
       "<div>\n",
       "<style scoped>\n",
       "    .dataframe tbody tr th:only-of-type {\n",
       "        vertical-align: middle;\n",
       "    }\n",
       "\n",
       "    .dataframe tbody tr th {\n",
       "        vertical-align: top;\n",
       "    }\n",
       "\n",
       "    .dataframe thead th {\n",
       "        text-align: right;\n",
       "    }\n",
       "</style>\n",
       "<table border=\"1\" class=\"dataframe\">\n",
       "  <thead>\n",
       "    <tr style=\"text-align: right;\">\n",
       "      <th></th>\n",
       "      <th>Order Country</th>\n",
       "      <th>Late_delivery_risk</th>\n",
       "    </tr>\n",
       "  </thead>\n",
       "  <tbody>\n",
       "    <tr>\n",
       "      <th>0</th>\n",
       "      <td>Indonesia</td>\n",
       "      <td>0</td>\n",
       "    </tr>\n",
       "    <tr>\n",
       "      <th>1</th>\n",
       "      <td>India</td>\n",
       "      <td>1</td>\n",
       "    </tr>\n",
       "    <tr>\n",
       "      <th>2</th>\n",
       "      <td>India</td>\n",
       "      <td>0</td>\n",
       "    </tr>\n",
       "    <tr>\n",
       "      <th>3</th>\n",
       "      <td>Australia</td>\n",
       "      <td>0</td>\n",
       "    </tr>\n",
       "    <tr>\n",
       "      <th>4</th>\n",
       "      <td>Australia</td>\n",
       "      <td>0</td>\n",
       "    </tr>\n",
       "    <tr>\n",
       "      <th>...</th>\n",
       "      <td>...</td>\n",
       "      <td>...</td>\n",
       "    </tr>\n",
       "    <tr>\n",
       "      <th>180514</th>\n",
       "      <td>China</td>\n",
       "      <td>0</td>\n",
       "    </tr>\n",
       "    <tr>\n",
       "      <th>180515</th>\n",
       "      <td>Japón</td>\n",
       "      <td>1</td>\n",
       "    </tr>\n",
       "    <tr>\n",
       "      <th>180516</th>\n",
       "      <td>Australia</td>\n",
       "      <td>1</td>\n",
       "    </tr>\n",
       "    <tr>\n",
       "      <th>180517</th>\n",
       "      <td>Australia</td>\n",
       "      <td>0</td>\n",
       "    </tr>\n",
       "    <tr>\n",
       "      <th>180518</th>\n",
       "      <td>India</td>\n",
       "      <td>0</td>\n",
       "    </tr>\n",
       "  </tbody>\n",
       "</table>\n",
       "<p>180519 rows × 2 columns</p>\n",
       "</div>"
      ],
      "text/plain": [
       "       Order Country  Late_delivery_risk\n",
       "0          Indonesia                   0\n",
       "1              India                   1\n",
       "2              India                   0\n",
       "3          Australia                   0\n",
       "4          Australia                   0\n",
       "...              ...                 ...\n",
       "180514         China                   0\n",
       "180515         Japón                   1\n",
       "180516     Australia                   1\n",
       "180517     Australia                   0\n",
       "180518         India                   0\n",
       "\n",
       "[180519 rows x 2 columns]"
      ]
     },
     "execution_count": 95,
     "metadata": {},
     "output_type": "execute_result"
    }
   ],
   "source": [
    "delivery_exp = dataset[['Order Country', 'Late_delivery_risk']].copy()\n",
    "delivery_exp"
   ]
  },
  {
   "cell_type": "code",
   "execution_count": 96,
   "metadata": {},
   "outputs": [
    {
     "data": {
      "text/html": [
       "<div>\n",
       "<style scoped>\n",
       "    .dataframe tbody tr th:only-of-type {\n",
       "        vertical-align: middle;\n",
       "    }\n",
       "\n",
       "    .dataframe tbody tr th {\n",
       "        vertical-align: top;\n",
       "    }\n",
       "\n",
       "    .dataframe thead th {\n",
       "        text-align: right;\n",
       "    }\n",
       "</style>\n",
       "<table border=\"1\" class=\"dataframe\">\n",
       "  <thead>\n",
       "    <tr style=\"text-align: right;\">\n",
       "      <th></th>\n",
       "      <th>Late_delivery_risk</th>\n",
       "    </tr>\n",
       "    <tr>\n",
       "      <th>Order Country</th>\n",
       "      <th></th>\n",
       "    </tr>\n",
       "  </thead>\n",
       "  <tbody>\n",
       "    <tr>\n",
       "      <th>Afganistán</th>\n",
       "      <td>0.570552</td>\n",
       "    </tr>\n",
       "    <tr>\n",
       "      <th>Albania</th>\n",
       "      <td>0.594595</td>\n",
       "    </tr>\n",
       "    <tr>\n",
       "      <th>Alemania</th>\n",
       "      <td>0.562840</td>\n",
       "    </tr>\n",
       "    <tr>\n",
       "      <th>Angola</th>\n",
       "      <td>0.598039</td>\n",
       "    </tr>\n",
       "    <tr>\n",
       "      <th>Arabia Saudí</th>\n",
       "      <td>0.576744</td>\n",
       "    </tr>\n",
       "    <tr>\n",
       "      <th>...</th>\n",
       "      <td>...</td>\n",
       "    </tr>\n",
       "    <tr>\n",
       "      <th>Vietnam</th>\n",
       "      <td>0.520476</td>\n",
       "    </tr>\n",
       "    <tr>\n",
       "      <th>Yemen</th>\n",
       "      <td>0.591549</td>\n",
       "    </tr>\n",
       "    <tr>\n",
       "      <th>Yibuti</th>\n",
       "      <td>0.677419</td>\n",
       "    </tr>\n",
       "    <tr>\n",
       "      <th>Zambia</th>\n",
       "      <td>0.560150</td>\n",
       "    </tr>\n",
       "    <tr>\n",
       "      <th>Zimbabue</th>\n",
       "      <td>0.557895</td>\n",
       "    </tr>\n",
       "  </tbody>\n",
       "</table>\n",
       "<p>164 rows × 1 columns</p>\n",
       "</div>"
      ],
      "text/plain": [
       "               Late_delivery_risk\n",
       "Order Country                    \n",
       "Afganistán               0.570552\n",
       "Albania                  0.594595\n",
       "Alemania                 0.562840\n",
       "Angola                   0.598039\n",
       "Arabia Saudí             0.576744\n",
       "...                           ...\n",
       "Vietnam                  0.520476\n",
       "Yemen                    0.591549\n",
       "Yibuti                   0.677419\n",
       "Zambia                   0.560150\n",
       "Zimbabue                 0.557895\n",
       "\n",
       "[164 rows x 1 columns]"
      ]
     },
     "execution_count": 96,
     "metadata": {},
     "output_type": "execute_result"
    }
   ],
   "source": [
    "delivery_exp_group = delivery_exp.groupby(['Order Country']).mean()\n",
    "delivery_exp_group"
   ]
  },
  {
   "cell_type": "code",
   "execution_count": 10,
   "metadata": {},
   "outputs": [
    {
     "data": {
      "text/html": [
       "<div>\n",
       "<style scoped>\n",
       "    .dataframe tbody tr th:only-of-type {\n",
       "        vertical-align: middle;\n",
       "    }\n",
       "\n",
       "    .dataframe tbody tr th {\n",
       "        vertical-align: top;\n",
       "    }\n",
       "\n",
       "    .dataframe thead th {\n",
       "        text-align: right;\n",
       "    }\n",
       "</style>\n",
       "<table border=\"1\" class=\"dataframe\">\n",
       "  <thead>\n",
       "    <tr style=\"text-align: right;\">\n",
       "      <th></th>\n",
       "      <th></th>\n",
       "      <th>Short name</th>\n",
       "    </tr>\n",
       "    <tr>\n",
       "      <th>Country</th>\n",
       "      <th>City</th>\n",
       "      <th></th>\n",
       "    </tr>\n",
       "  </thead>\n",
       "  <tbody>\n",
       "    <tr>\n",
       "      <th>Russia</th>\n",
       "      <th>Sankt-Petersburg</th>\n",
       "      <td>Spb</td>\n",
       "    </tr>\n",
       "    <tr>\n",
       "      <th>USA</th>\n",
       "      <th>New-York</th>\n",
       "      <td>NY</td>\n",
       "    </tr>\n",
       "  </tbody>\n",
       "</table>\n",
       "</div>"
      ],
      "text/plain": [
       "                         Short name\n",
       "Country City                       \n",
       "Russia  Sankt-Petersburg        Spb\n",
       "USA     New-York                 NY"
      ]
     },
     "execution_count": 10,
     "metadata": {},
     "output_type": "execute_result"
    }
   ],
   "source": [
    "\n",
    "source = pd.DataFrame({'Country' : ['USA', 'USA', 'Russia','USA'], \n",
    "                  'City' : ['New-York', 'New-York', 'Sankt-Petersburg', 'New-York'],\n",
    "                  'Short name' : ['NY','New','Spb','NY']})\n",
    "\n",
    "source.groupby(['Country','City']).first()\n",
    "source.groupby(['Country','City']).agg(lambda x:x.value_counts().index[0])\n"
   ]
  },
  {
   "cell_type": "code",
   "execution_count": 11,
   "metadata": {
    "execution": {
     "iopub.execute_input": "2020-08-26T14:44:55.029024Z",
     "iopub.status.busy": "2020-08-26T14:44:55.028309Z",
     "iopub.status.idle": "2020-08-26T14:44:59.238229Z",
     "shell.execute_reply": "2020-08-26T14:44:59.238958Z"
    },
    "papermill": {
     "duration": 4.228933,
     "end_time": "2020-08-26T14:44:59.239140",
     "exception": false,
     "start_time": "2020-08-26T14:44:55.010207",
     "status": "completed"
    },
    "tags": []
   },
   "outputs": [
    {
     "data": {
      "image/png": "[encoded data removed]",
      "text/plain": [
       "<Figure size 2160x1440 with 2 Axes>"
      ]
     },
     "metadata": {
      "needs_background": "light"
     },
     "output_type": "display_data"
    }
   ],
   "source": [
    "corrmap = data.corr()\n",
    "top=corrmap.index\n",
    "plt.figure(figsize=(30,20))\n",
    "g=sns.heatmap(data[top].corr(),annot=True,cmap=\"RdYlGn\")"
   ]
  },
  {
   "cell_type": "markdown",
   "metadata": {
    "papermill": {
     "duration": 0.018231,
     "end_time": "2020-08-26T14:44:59.276146",
     "exception": false,
     "start_time": "2020-08-26T14:44:59.257915",
     "status": "completed"
    },
    "tags": []
   },
   "source": [
    "## Insights from Heatmap:\n",
    "**1. Columns that are similar with same values but with different metadata (duplicate columns)**\n",
    "  * [Benefit per order], Order Profit per order\n",
    "  * [Sales per customer], Sales, Order Item Total\n",
    "  * [Category ID], Product Category ID, Order Customer ID, Order Item Category ID, Product card ID,\n",
    "  * [Order Item Product Price],Product Price\n",
    "  \n",
    "**2. Unwanted features(null or less correlated values)**\n",
    "  * Product Description\n",
    "  * Product Status"
   ]
  },
  {
   "cell_type": "markdown",
   "metadata": {
    "papermill": {
     "duration": 0.018,
     "end_time": "2020-08-26T14:44:59.313187",
     "exception": false,
     "start_time": "2020-08-26T14:44:59.295187",
     "status": "completed"
    },
    "tags": []
   },
   "source": [
    "**Splitting dataset into smaller datasets for domain usage and easier modelling**\n",
    "1. Finance \n",
    "2. Demographics\n",
    "3. Shipment day estimation"
   ]
  },
  {
   "cell_type": "code",
   "execution_count": 12,
   "metadata": {
    "execution": {
     "iopub.execute_input": "2020-08-26T14:44:59.360430Z",
     "iopub.status.busy": "2020-08-26T14:44:59.359250Z",
     "iopub.status.idle": "2020-08-26T14:44:59.394046Z",
     "shell.execute_reply": "2020-08-26T14:44:59.394697Z"
    },
    "papermill": {
     "duration": 0.062297,
     "end_time": "2020-08-26T14:44:59.394898",
     "exception": false,
     "start_time": "2020-08-26T14:44:59.332601",
     "status": "completed"
    },
    "tags": []
   },
   "outputs": [
    {
     "data": {
      "text/html": [
       "<div>\n",
       "<style scoped>\n",
       "    .dataframe tbody tr th:only-of-type {\n",
       "        vertical-align: middle;\n",
       "    }\n",
       "\n",
       "    .dataframe tbody tr th {\n",
       "        vertical-align: top;\n",
       "    }\n",
       "\n",
       "    .dataframe thead th {\n",
       "        text-align: right;\n",
       "    }\n",
       "</style>\n",
       "<table border=\"1\" class=\"dataframe\">\n",
       "  <thead>\n",
       "    <tr style=\"text-align: right;\">\n",
       "      <th></th>\n",
       "      <th>Type</th>\n",
       "      <th>Days for shipping (real)</th>\n",
       "      <th>Days for shipment (scheduled)</th>\n",
       "      <th>Late_delivery_risk</th>\n",
       "      <th>Benefit per order</th>\n",
       "      <th>Sales per customer</th>\n",
       "      <th>Latitude</th>\n",
       "      <th>Longitude</th>\n",
       "      <th>Shipping Mode</th>\n",
       "      <th>Order Status</th>\n",
       "      <th>Order Region</th>\n",
       "      <th>Order Country</th>\n",
       "      <th>Order City</th>\n",
       "      <th>Market</th>\n",
       "      <th>Delivery Status</th>\n",
       "    </tr>\n",
       "  </thead>\n",
       "  <tbody>\n",
       "    <tr>\n",
       "      <th>0</th>\n",
       "      <td>DEBIT</td>\n",
       "      <td>3</td>\n",
       "      <td>4</td>\n",
       "      <td>0</td>\n",
       "      <td>91.250000</td>\n",
       "      <td>314.640015</td>\n",
       "      <td>18.251453</td>\n",
       "      <td>-66.037056</td>\n",
       "      <td>Standard Class</td>\n",
       "      <td>COMPLETE</td>\n",
       "      <td>Southeast Asia</td>\n",
       "      <td>Indonesia</td>\n",
       "      <td>Bekasi</td>\n",
       "      <td>Pacific Asia</td>\n",
       "      <td>Advance shipping</td>\n",
       "    </tr>\n",
       "    <tr>\n",
       "      <th>1</th>\n",
       "      <td>TRANSFER</td>\n",
       "      <td>5</td>\n",
       "      <td>4</td>\n",
       "      <td>1</td>\n",
       "      <td>-249.089996</td>\n",
       "      <td>311.359985</td>\n",
       "      <td>18.279451</td>\n",
       "      <td>-66.037064</td>\n",
       "      <td>Standard Class</td>\n",
       "      <td>PENDING</td>\n",
       "      <td>South Asia</td>\n",
       "      <td>India</td>\n",
       "      <td>Bikaner</td>\n",
       "      <td>Pacific Asia</td>\n",
       "      <td>Late delivery</td>\n",
       "    </tr>\n",
       "    <tr>\n",
       "      <th>2</th>\n",
       "      <td>CASH</td>\n",
       "      <td>4</td>\n",
       "      <td>4</td>\n",
       "      <td>0</td>\n",
       "      <td>-247.779999</td>\n",
       "      <td>309.720001</td>\n",
       "      <td>37.292233</td>\n",
       "      <td>-121.881279</td>\n",
       "      <td>Standard Class</td>\n",
       "      <td>CLOSED</td>\n",
       "      <td>South Asia</td>\n",
       "      <td>India</td>\n",
       "      <td>Bikaner</td>\n",
       "      <td>Pacific Asia</td>\n",
       "      <td>Shipping on time</td>\n",
       "    </tr>\n",
       "    <tr>\n",
       "      <th>3</th>\n",
       "      <td>DEBIT</td>\n",
       "      <td>3</td>\n",
       "      <td>4</td>\n",
       "      <td>0</td>\n",
       "      <td>22.860001</td>\n",
       "      <td>304.809998</td>\n",
       "      <td>34.125946</td>\n",
       "      <td>-118.291016</td>\n",
       "      <td>Standard Class</td>\n",
       "      <td>COMPLETE</td>\n",
       "      <td>Oceania</td>\n",
       "      <td>Australia</td>\n",
       "      <td>Townsville</td>\n",
       "      <td>Pacific Asia</td>\n",
       "      <td>Advance shipping</td>\n",
       "    </tr>\n",
       "    <tr>\n",
       "      <th>4</th>\n",
       "      <td>PAYMENT</td>\n",
       "      <td>2</td>\n",
       "      <td>4</td>\n",
       "      <td>0</td>\n",
       "      <td>134.210007</td>\n",
       "      <td>298.250000</td>\n",
       "      <td>18.253769</td>\n",
       "      <td>-66.037048</td>\n",
       "      <td>Standard Class</td>\n",
       "      <td>PENDING_PAYMENT</td>\n",
       "      <td>Oceania</td>\n",
       "      <td>Australia</td>\n",
       "      <td>Townsville</td>\n",
       "      <td>Pacific Asia</td>\n",
       "      <td>Advance shipping</td>\n",
       "    </tr>\n",
       "  </tbody>\n",
       "</table>\n",
       "</div>"
      ],
      "text/plain": [
       "       Type  Days for shipping (real)  Days for shipment (scheduled)  \\\n",
       "0     DEBIT                         3                              4   \n",
       "1  TRANSFER                         5                              4   \n",
       "2      CASH                         4                              4   \n",
       "3     DEBIT                         3                              4   \n",
       "4   PAYMENT                         2                              4   \n",
       "\n",
       "   Late_delivery_risk  Benefit per order  Sales per customer   Latitude  \\\n",
       "0                   0          91.250000          314.640015  18.251453   \n",
       "1                   1        -249.089996          311.359985  18.279451   \n",
       "2                   0        -247.779999          309.720001  37.292233   \n",
       "3                   0          22.860001          304.809998  34.125946   \n",
       "4                   0         134.210007          298.250000  18.253769   \n",
       "\n",
       "    Longitude   Shipping Mode     Order Status    Order Region Order Country  \\\n",
       "0  -66.037056  Standard Class         COMPLETE  Southeast Asia     Indonesia   \n",
       "1  -66.037064  Standard Class          PENDING      South Asia         India   \n",
       "2 -121.881279  Standard Class           CLOSED      South Asia         India   \n",
       "3 -118.291016  Standard Class         COMPLETE         Oceania     Australia   \n",
       "4  -66.037048  Standard Class  PENDING_PAYMENT         Oceania     Australia   \n",
       "\n",
       "   Order City        Market   Delivery Status  \n",
       "0      Bekasi  Pacific Asia  Advance shipping  \n",
       "1     Bikaner  Pacific Asia     Late delivery  \n",
       "2     Bikaner  Pacific Asia  Shipping on time  \n",
       "3  Townsville  Pacific Asia  Advance shipping  \n",
       "4  Townsville  Pacific Asia  Advance shipping  "
      ]
     },
     "execution_count": 12,
     "metadata": {},
     "output_type": "execute_result"
    }
   ],
   "source": [
    "shipment_features = ['Type','Days for shipping (real)','Days for shipment (scheduled)','Late_delivery_risk','Benefit per order',\n",
    "                        'Sales per customer','Latitude','Longitude','Shipping Mode','Order Status','Order Region',\n",
    "                        'Order Country','Order City','Market','Delivery Status']\n",
    "shipment = data[shipment_features]\n",
    "shipment.head()"
   ]
  },
  {
   "cell_type": "code",
   "execution_count": 13,
   "metadata": {
    "execution": {
     "iopub.execute_input": "2020-08-26T14:44:59.450910Z",
     "iopub.status.busy": "2020-08-26T14:44:59.450118Z",
     "iopub.status.idle": "2020-08-26T14:44:59.456240Z",
     "shell.execute_reply": "2020-08-26T14:44:59.455577Z"
    },
    "papermill": {
     "duration": 0.042341,
     "end_time": "2020-08-26T14:44:59.456349",
     "exception": false,
     "start_time": "2020-08-26T14:44:59.414008",
     "status": "completed"
    },
    "tags": []
   },
   "outputs": [
    {
     "data": {
      "text/html": [
       "<div>\n",
       "<style scoped>\n",
       "    .dataframe tbody tr th:only-of-type {\n",
       "        vertical-align: middle;\n",
       "    }\n",
       "\n",
       "    .dataframe tbody tr th {\n",
       "        vertical-align: top;\n",
       "    }\n",
       "\n",
       "    .dataframe thead th {\n",
       "        text-align: right;\n",
       "    }\n",
       "</style>\n",
       "<table border=\"1\" class=\"dataframe\">\n",
       "  <thead>\n",
       "    <tr style=\"text-align: right;\">\n",
       "      <th></th>\n",
       "      <th>Benefit per order</th>\n",
       "      <th>Sales per customer</th>\n",
       "      <th>Order Item Discount</th>\n",
       "      <th>Order Item Discount Rate</th>\n",
       "      <th>Order Item Product Price</th>\n",
       "      <th>Order Item Profit Ratio</th>\n",
       "    </tr>\n",
       "  </thead>\n",
       "  <tbody>\n",
       "    <tr>\n",
       "      <th>0</th>\n",
       "      <td>91.250000</td>\n",
       "      <td>314.640015</td>\n",
       "      <td>13.110000</td>\n",
       "      <td>0.04</td>\n",
       "      <td>327.75</td>\n",
       "      <td>0.29</td>\n",
       "    </tr>\n",
       "    <tr>\n",
       "      <th>1</th>\n",
       "      <td>-249.089996</td>\n",
       "      <td>311.359985</td>\n",
       "      <td>16.389999</td>\n",
       "      <td>0.05</td>\n",
       "      <td>327.75</td>\n",
       "      <td>-0.80</td>\n",
       "    </tr>\n",
       "    <tr>\n",
       "      <th>2</th>\n",
       "      <td>-247.779999</td>\n",
       "      <td>309.720001</td>\n",
       "      <td>18.030001</td>\n",
       "      <td>0.06</td>\n",
       "      <td>327.75</td>\n",
       "      <td>-0.80</td>\n",
       "    </tr>\n",
       "    <tr>\n",
       "      <th>3</th>\n",
       "      <td>22.860001</td>\n",
       "      <td>304.809998</td>\n",
       "      <td>22.940001</td>\n",
       "      <td>0.07</td>\n",
       "      <td>327.75</td>\n",
       "      <td>0.08</td>\n",
       "    </tr>\n",
       "    <tr>\n",
       "      <th>4</th>\n",
       "      <td>134.210007</td>\n",
       "      <td>298.250000</td>\n",
       "      <td>29.500000</td>\n",
       "      <td>0.09</td>\n",
       "      <td>327.75</td>\n",
       "      <td>0.45</td>\n",
       "    </tr>\n",
       "  </tbody>\n",
       "</table>\n",
       "</div>"
      ],
      "text/plain": [
       "   Benefit per order  Sales per customer  Order Item Discount  \\\n",
       "0          91.250000          314.640015            13.110000   \n",
       "1        -249.089996          311.359985            16.389999   \n",
       "2        -247.779999          309.720001            18.030001   \n",
       "3          22.860001          304.809998            22.940001   \n",
       "4         134.210007          298.250000            29.500000   \n",
       "\n",
       "   Order Item Discount Rate  Order Item Product Price  Order Item Profit Ratio  \n",
       "0                      0.04                    327.75                     0.29  \n",
       "1                      0.05                    327.75                    -0.80  \n",
       "2                      0.06                    327.75                    -0.80  \n",
       "3                      0.07                    327.75                     0.08  \n",
       "4                      0.09                    327.75                     0.45  "
      ]
     },
     "execution_count": 13,
     "metadata": {},
     "output_type": "execute_result"
    }
   ],
   "source": [
    "finance_features=['Benefit per order','Sales per customer','Order Item Discount','Order Item Discount Rate',\n",
    "                  'Order Item Product Price','Order Item Profit Ratio']\n",
    "finance = data[finance_features]\n",
    "finance.head()"
   ]
  },
  {
   "cell_type": "markdown",
   "metadata": {
    "papermill": {
     "duration": 0.013356,
     "end_time": "2020-08-26T14:44:59.483717",
     "exception": false,
     "start_time": "2020-08-26T14:44:59.470361",
     "status": "completed"
    },
    "tags": []
   },
   "source": [
    "# 5) FEATURE ENGINEERING"
   ]
  },
  {
   "cell_type": "code",
   "execution_count": 14,
   "metadata": {
    "execution": {
     "iopub.execute_input": "2020-08-26T14:44:59.535622Z",
     "iopub.status.busy": "2020-08-26T14:44:59.530578Z",
     "iopub.status.idle": "2020-08-26T14:45:45.396278Z",
     "shell.execute_reply": "2020-08-26T14:45:45.395572Z"
    },
    "papermill": {
     "duration": 45.899075,
     "end_time": "2020-08-26T14:45:45.396397",
     "exception": false,
     "start_time": "2020-08-26T14:44:59.497322",
     "status": "completed"
    },
    "tags": []
   },
   "outputs": [],
   "source": [
    "#Converting categorical features that represent date and time to datetime datatype.\n",
    "data['order_date'] = pd.to_datetime(data['order date (DateOrders)'])\n",
    "data['shipping_date']=pd.to_datetime(data['shipping date (DateOrders)'])"
   ]
  },
  {
   "cell_type": "code",
   "execution_count": 15,
   "metadata": {
    "execution": {
     "iopub.execute_input": "2020-08-26T14:45:45.433608Z",
     "iopub.status.busy": "2020-08-26T14:45:45.432577Z",
     "iopub.status.idle": "2020-08-26T14:45:45.512399Z",
     "shell.execute_reply": "2020-08-26T14:45:45.511526Z"
    },
    "papermill": {
     "duration": 0.101803,
     "end_time": "2020-08-26T14:45:45.512535",
     "exception": false,
     "start_time": "2020-08-26T14:45:45.410732",
     "status": "completed"
    },
    "tags": []
   },
   "outputs": [],
   "source": [
    "# Handling Time and date variables\n",
    "data['order_year'] = pd.DatetimeIndex(data['order_date']).year\n",
    "data['order_month'] = pd.DatetimeIndex(data['order_date']).month\n",
    "data['order_day'] = pd.DatetimeIndex(data['order_date']).day\n",
    "data['shipping_year'] = pd.DatetimeIndex(data['shipping_date']).year\n",
    "data['shipping_month'] = pd.DatetimeIndex(data['shipping_date']).month\n",
    "data['shipping_day'] = pd.DatetimeIndex(data['shipping_date']).day"
   ]
  },
  {
   "cell_type": "code",
   "execution_count": 16,
   "metadata": {
    "execution": {
     "iopub.execute_input": "2020-08-26T14:45:45.560672Z",
     "iopub.status.busy": "2020-08-26T14:45:45.559777Z",
     "iopub.status.idle": "2020-08-26T14:45:45.566175Z",
     "shell.execute_reply": "2020-08-26T14:45:45.565468Z"
    },
    "papermill": {
     "duration": 0.033925,
     "end_time": "2020-08-26T14:45:45.566292",
     "exception": false,
     "start_time": "2020-08-26T14:45:45.532367",
     "status": "completed"
    },
    "tags": []
   },
   "outputs": [
    {
     "data": {
      "text/plain": [
       "21"
      ]
     },
     "execution_count": 16,
     "metadata": {},
     "output_type": "execute_result"
    }
   ],
   "source": [
    "new_dataset_features = ['Type','Days for shipping (real)','Days for shipment (scheduled)','Late_delivery_risk','Benefit per order',\n",
    "                        'Sales per customer','Latitude','Longitude','Shipping Mode','Order Status','Order Region',\n",
    "                        'Order Country','Order City','Market','Delivery Status','order_day','order_month','order_year',\n",
    "                        'shipping_day','shipping_month','shipping_year']\n",
    "len(new_dataset_features)"
   ]
  },
  {
   "cell_type": "code",
   "execution_count": 17,
   "metadata": {
    "execution": {
     "iopub.execute_input": "2020-08-26T14:45:45.603246Z",
     "iopub.status.busy": "2020-08-26T14:45:45.602261Z",
     "iopub.status.idle": "2020-08-26T14:45:45.657453Z",
     "shell.execute_reply": "2020-08-26T14:45:45.656771Z"
    },
    "papermill": {
     "duration": 0.076688,
     "end_time": "2020-08-26T14:45:45.657566",
     "exception": false,
     "start_time": "2020-08-26T14:45:45.580878",
     "status": "completed"
    },
    "tags": []
   },
   "outputs": [
    {
     "data": {
      "text/html": [
       "<div>\n",
       "<style scoped>\n",
       "    .dataframe tbody tr th:only-of-type {\n",
       "        vertical-align: middle;\n",
       "    }\n",
       "\n",
       "    .dataframe tbody tr th {\n",
       "        vertical-align: top;\n",
       "    }\n",
       "\n",
       "    .dataframe thead th {\n",
       "        text-align: right;\n",
       "    }\n",
       "</style>\n",
       "<table border=\"1\" class=\"dataframe\">\n",
       "  <thead>\n",
       "    <tr style=\"text-align: right;\">\n",
       "      <th></th>\n",
       "      <th>Type</th>\n",
       "      <th>Days for shipping (real)</th>\n",
       "      <th>Days for shipment (scheduled)</th>\n",
       "      <th>Late_delivery_risk</th>\n",
       "      <th>Benefit per order</th>\n",
       "      <th>Sales per customer</th>\n",
       "      <th>Latitude</th>\n",
       "      <th>Longitude</th>\n",
       "      <th>Shipping Mode</th>\n",
       "      <th>Order Status</th>\n",
       "      <th>Order Region</th>\n",
       "      <th>Order Country</th>\n",
       "      <th>Order City</th>\n",
       "      <th>Market</th>\n",
       "      <th>Delivery Status</th>\n",
       "      <th>order_day</th>\n",
       "      <th>order_month</th>\n",
       "      <th>order_year</th>\n",
       "      <th>shipping_day</th>\n",
       "      <th>shipping_month</th>\n",
       "      <th>shipping_year</th>\n",
       "    </tr>\n",
       "  </thead>\n",
       "  <tbody>\n",
       "    <tr>\n",
       "      <th>0</th>\n",
       "      <td>DEBIT</td>\n",
       "      <td>3</td>\n",
       "      <td>4</td>\n",
       "      <td>0</td>\n",
       "      <td>91.250000</td>\n",
       "      <td>314.640015</td>\n",
       "      <td>18.251453</td>\n",
       "      <td>-66.037056</td>\n",
       "      <td>Standard Class</td>\n",
       "      <td>COMPLETE</td>\n",
       "      <td>Southeast Asia</td>\n",
       "      <td>Indonesia</td>\n",
       "      <td>Bekasi</td>\n",
       "      <td>Pacific Asia</td>\n",
       "      <td>Advance shipping</td>\n",
       "      <td>31</td>\n",
       "      <td>1</td>\n",
       "      <td>2018</td>\n",
       "      <td>3</td>\n",
       "      <td>2</td>\n",
       "      <td>2018</td>\n",
       "    </tr>\n",
       "    <tr>\n",
       "      <th>1</th>\n",
       "      <td>TRANSFER</td>\n",
       "      <td>5</td>\n",
       "      <td>4</td>\n",
       "      <td>1</td>\n",
       "      <td>-249.089996</td>\n",
       "      <td>311.359985</td>\n",
       "      <td>18.279451</td>\n",
       "      <td>-66.037064</td>\n",
       "      <td>Standard Class</td>\n",
       "      <td>PENDING</td>\n",
       "      <td>South Asia</td>\n",
       "      <td>India</td>\n",
       "      <td>Bikaner</td>\n",
       "      <td>Pacific Asia</td>\n",
       "      <td>Late delivery</td>\n",
       "      <td>13</td>\n",
       "      <td>1</td>\n",
       "      <td>2018</td>\n",
       "      <td>18</td>\n",
       "      <td>1</td>\n",
       "      <td>2018</td>\n",
       "    </tr>\n",
       "    <tr>\n",
       "      <th>2</th>\n",
       "      <td>CASH</td>\n",
       "      <td>4</td>\n",
       "      <td>4</td>\n",
       "      <td>0</td>\n",
       "      <td>-247.779999</td>\n",
       "      <td>309.720001</td>\n",
       "      <td>37.292233</td>\n",
       "      <td>-121.881279</td>\n",
       "      <td>Standard Class</td>\n",
       "      <td>CLOSED</td>\n",
       "      <td>South Asia</td>\n",
       "      <td>India</td>\n",
       "      <td>Bikaner</td>\n",
       "      <td>Pacific Asia</td>\n",
       "      <td>Shipping on time</td>\n",
       "      <td>13</td>\n",
       "      <td>1</td>\n",
       "      <td>2018</td>\n",
       "      <td>17</td>\n",
       "      <td>1</td>\n",
       "      <td>2018</td>\n",
       "    </tr>\n",
       "    <tr>\n",
       "      <th>3</th>\n",
       "      <td>DEBIT</td>\n",
       "      <td>3</td>\n",
       "      <td>4</td>\n",
       "      <td>0</td>\n",
       "      <td>22.860001</td>\n",
       "      <td>304.809998</td>\n",
       "      <td>34.125946</td>\n",
       "      <td>-118.291016</td>\n",
       "      <td>Standard Class</td>\n",
       "      <td>COMPLETE</td>\n",
       "      <td>Oceania</td>\n",
       "      <td>Australia</td>\n",
       "      <td>Townsville</td>\n",
       "      <td>Pacific Asia</td>\n",
       "      <td>Advance shipping</td>\n",
       "      <td>13</td>\n",
       "      <td>1</td>\n",
       "      <td>2018</td>\n",
       "      <td>16</td>\n",
       "      <td>1</td>\n",
       "      <td>2018</td>\n",
       "    </tr>\n",
       "    <tr>\n",
       "      <th>4</th>\n",
       "      <td>PAYMENT</td>\n",
       "      <td>2</td>\n",
       "      <td>4</td>\n",
       "      <td>0</td>\n",
       "      <td>134.210007</td>\n",
       "      <td>298.250000</td>\n",
       "      <td>18.253769</td>\n",
       "      <td>-66.037048</td>\n",
       "      <td>Standard Class</td>\n",
       "      <td>PENDING_PAYMENT</td>\n",
       "      <td>Oceania</td>\n",
       "      <td>Australia</td>\n",
       "      <td>Townsville</td>\n",
       "      <td>Pacific Asia</td>\n",
       "      <td>Advance shipping</td>\n",
       "      <td>13</td>\n",
       "      <td>1</td>\n",
       "      <td>2018</td>\n",
       "      <td>15</td>\n",
       "      <td>1</td>\n",
       "      <td>2018</td>\n",
       "    </tr>\n",
       "  </tbody>\n",
       "</table>\n",
       "</div>"
      ],
      "text/plain": [
       "       Type  Days for shipping (real)  Days for shipment (scheduled)  \\\n",
       "0     DEBIT                         3                              4   \n",
       "1  TRANSFER                         5                              4   \n",
       "2      CASH                         4                              4   \n",
       "3     DEBIT                         3                              4   \n",
       "4   PAYMENT                         2                              4   \n",
       "\n",
       "   Late_delivery_risk  Benefit per order  Sales per customer   Latitude  \\\n",
       "0                   0          91.250000          314.640015  18.251453   \n",
       "1                   1        -249.089996          311.359985  18.279451   \n",
       "2                   0        -247.779999          309.720001  37.292233   \n",
       "3                   0          22.860001          304.809998  34.125946   \n",
       "4                   0         134.210007          298.250000  18.253769   \n",
       "\n",
       "    Longitude   Shipping Mode     Order Status    Order Region Order Country  \\\n",
       "0  -66.037056  Standard Class         COMPLETE  Southeast Asia     Indonesia   \n",
       "1  -66.037064  Standard Class          PENDING      South Asia         India   \n",
       "2 -121.881279  Standard Class           CLOSED      South Asia         India   \n",
       "3 -118.291016  Standard Class         COMPLETE         Oceania     Australia   \n",
       "4  -66.037048  Standard Class  PENDING_PAYMENT         Oceania     Australia   \n",
       "\n",
       "   Order City        Market   Delivery Status  order_day  order_month  \\\n",
       "0      Bekasi  Pacific Asia  Advance shipping         31            1   \n",
       "1     Bikaner  Pacific Asia     Late delivery         13            1   \n",
       "2     Bikaner  Pacific Asia  Shipping on time         13            1   \n",
       "3  Townsville  Pacific Asia  Advance shipping         13            1   \n",
       "4  Townsville  Pacific Asia  Advance shipping         13            1   \n",
       "\n",
       "   order_year  shipping_day  shipping_month  shipping_year  \n",
       "0        2018             3               2           2018  \n",
       "1        2018            18               1           2018  \n",
       "2        2018            17               1           2018  \n",
       "3        2018            16               1           2018  \n",
       "4        2018            15               1           2018  "
      ]
     },
     "execution_count": 17,
     "metadata": {},
     "output_type": "execute_result"
    }
   ],
   "source": [
    "new_data = data[new_dataset_features]\n",
    "model_data = new_data\n",
    "new_data.head()"
   ]
  },
  {
   "cell_type": "code",
   "execution_count": 18,
   "metadata": {
    "execution": {
     "iopub.execute_input": "2020-08-26T14:45:45.703195Z",
     "iopub.status.busy": "2020-08-26T14:45:45.695378Z",
     "iopub.status.idle": "2020-08-26T14:45:48.544795Z",
     "shell.execute_reply": "2020-08-26T14:45:48.544151Z"
    },
    "papermill": {
     "duration": 2.872271,
     "end_time": "2020-08-26T14:45:48.544934",
     "exception": false,
     "start_time": "2020-08-26T14:45:45.672663",
     "status": "completed"
    },
    "tags": []
   },
   "outputs": [
    {
     "data": {
      "text/plain": [
       "(180519, 3823)"
      ]
     },
     "execution_count": 18,
     "metadata": {},
     "output_type": "execute_result"
    }
   ],
   "source": [
    "#One-Hot encoding categotical variables in the data\n",
    "model_data = pd.get_dummies(model_data)\n",
    "model_data.shape"
   ]
  },
  {
   "cell_type": "markdown",
   "metadata": {
    "papermill": {
     "duration": 0.014004,
     "end_time": "2020-08-26T14:45:48.573509",
     "exception": false,
     "start_time": "2020-08-26T14:45:48.559505",
     "status": "completed"
    },
    "tags": []
   },
   "source": [
    "# 6) MODEL BUILDING:\n",
    "* Target features : Days for shipping (real), Days for shipment (scheduled)\n",
    "* Problem type : Multi-output Regression"
   ]
  },
  {
   "cell_type": "code",
   "execution_count": 19,
   "metadata": {
    "execution": {
     "iopub.execute_input": "2020-08-26T14:45:48.609948Z",
     "iopub.status.busy": "2020-08-26T14:45:48.609205Z",
     "iopub.status.idle": "2020-08-26T14:45:49.205879Z",
     "shell.execute_reply": "2020-08-26T14:45:49.206514Z"
    },
    "papermill": {
     "duration": 0.618638,
     "end_time": "2020-08-26T14:45:49.206700",
     "exception": false,
     "start_time": "2020-08-26T14:45:48.588062",
     "status": "completed"
    },
    "tags": []
   },
   "outputs": [
    {
     "data": {
      "text/plain": [
       "((180519, 3821), (180519, 2))"
      ]
     },
     "execution_count": 19,
     "metadata": {},
     "output_type": "execute_result"
    }
   ],
   "source": [
    "x = model_data.drop(['Days for shipping (real)','Days for shipment (scheduled)'],axis=1)\n",
    "y = model_data[['Days for shipping (real)','Days for shipment (scheduled)']]\n",
    "x.shape,y.shape"
   ]
  },
  {
   "cell_type": "code",
   "execution_count": 20,
   "metadata": {
    "execution": {
     "iopub.execute_input": "2020-08-26T14:45:49.259612Z",
     "iopub.status.busy": "2020-08-26T14:45:49.254595Z",
     "iopub.status.idle": "2020-08-26T14:45:51.081876Z",
     "shell.execute_reply": "2020-08-26T14:45:51.081099Z"
    },
    "papermill": {
     "duration": 1.854546,
     "end_time": "2020-08-26T14:45:51.082004",
     "exception": false,
     "start_time": "2020-08-26T14:45:49.227458",
     "status": "completed"
    },
    "tags": []
   },
   "outputs": [],
   "source": [
    "# train-test_split\n",
    "x_train,x_test,y_train,y_test = model_selection.train_test_split(x,y,test_size=0.20)"
   ]
  },
  {
   "cell_type": "code",
   "execution_count": 21,
   "metadata": {
    "execution": {
     "iopub.execute_input": "2020-08-26T14:45:51.137426Z",
     "iopub.status.busy": "2020-08-26T14:45:51.127006Z",
     "iopub.status.idle": "2020-08-26T14:47:06.816398Z",
     "shell.execute_reply": "2020-08-26T14:47:06.816927Z"
    },
    "papermill": {
     "duration": 75.719755,
     "end_time": "2020-08-26T14:47:06.817109",
     "exception": false,
     "start_time": "2020-08-26T14:45:51.097354",
     "status": "completed"
    },
    "tags": []
   },
   "outputs": [],
   "source": [
    "#sc=StandardScaler() \n",
    "#No standard Scaling is not required for Decision Trees are tree-based algorithms and do not need normalization or standard scaling\n",
    "#pc=PCA()\n",
    "# The hyper-parameters used are default hyper-parameters\n",
    "model=DecisionTreeRegressor()\n",
    "model.fit(x_train,y_train)\n",
    "pred=model.predict(x_test)"
   ]
  },
  {
   "cell_type": "markdown",
   "metadata": {
    "papermill": {
     "duration": 0.015334,
     "end_time": "2020-08-26T14:47:06.848360",
     "exception": false,
     "start_time": "2020-08-26T14:47:06.833026",
     "status": "completed"
    },
    "tags": []
   },
   "source": [
    "# 7) MODEL EVALUATION"
   ]
  },
  {
   "cell_type": "code",
   "execution_count": 22,
   "metadata": {
    "execution": {
     "iopub.execute_input": "2020-08-26T14:47:06.886817Z",
     "iopub.status.busy": "2020-08-26T14:47:06.886027Z",
     "iopub.status.idle": "2020-08-26T14:47:06.889940Z",
     "shell.execute_reply": "2020-08-26T14:47:06.889389Z"
    },
    "papermill": {
     "duration": 0.026148,
     "end_time": "2020-08-26T14:47:06.890055",
     "exception": false,
     "start_time": "2020-08-26T14:47:06.863907",
     "status": "completed"
    },
    "tags": []
   },
   "outputs": [],
   "source": [
    "#Function for estimating r2_score, mean_squared_error, mean_absolute_error\n",
    "def metrics(y_test,pred):\n",
    "    a =r2_score(y_test,pred)\n",
    "    b =mean_squared_error(y_test,pred)\n",
    "    c =mean_absolute_error(y_test,pred)\n",
    "    print('The r-squared score of the model is ',a)\n",
    "    print('The mean squared error is',b)\n",
    "    print('The mean accuracy score is',c)"
   ]
  },
  {
   "cell_type": "code",
   "execution_count": 23,
   "metadata": {
    "execution": {
     "iopub.execute_input": "2020-08-26T14:47:06.927798Z",
     "iopub.status.busy": "2020-08-26T14:47:06.927187Z",
     "iopub.status.idle": "2020-08-26T14:47:06.942237Z",
     "shell.execute_reply": "2020-08-26T14:47:06.941487Z"
    },
    "papermill": {
     "duration": 0.037084,
     "end_time": "2020-08-26T14:47:06.942375",
     "exception": false,
     "start_time": "2020-08-26T14:47:06.905291",
     "status": "completed"
    },
    "tags": []
   },
   "outputs": [
    {
     "name": "stdout",
     "output_type": "stream",
     "text": [
      "The r-squared score of the model is  0.9902454399863115\n",
      "The mean squared error is 0.025758918679370708\n",
      "The mean accuracy score is 0.022158209616662972\n"
     ]
    }
   ],
   "source": [
    "metrics(y_test,pred)\n",
    "#from sklearn.model_selection import cross_validate\n",
    "#cv_results = cross_validate(clf,x,y,cv=4)\n",
    "#cv_results {NO sufficient RAM space in Kaggle Kernel to run the CROSS-VALIDATION TESTS}"
   ]
  },
  {
   "cell_type": "markdown",
   "metadata": {
    "papermill": {
     "duration": 0.014153,
     "end_time": "2020-08-26T14:47:06.971359",
     "exception": false,
     "start_time": "2020-08-26T14:47:06.957206",
     "status": "completed"
    },
    "tags": []
   },
   "source": [
    "# 8) PREDICTIVE ANALYTICS : Late_delivery_prediction"
   ]
  },
  {
   "cell_type": "code",
   "execution_count": 24,
   "metadata": {
    "execution": {
     "iopub.execute_input": "2020-08-26T14:47:07.016309Z",
     "iopub.status.busy": "2020-08-26T14:47:07.015611Z",
     "iopub.status.idle": "2020-08-26T14:47:07.021764Z",
     "shell.execute_reply": "2020-08-26T14:47:07.020907Z"
    },
    "papermill": {
     "duration": 0.036106,
     "end_time": "2020-08-26T14:47:07.021930",
     "exception": false,
     "start_time": "2020-08-26T14:47:06.985824",
     "status": "completed"
    },
    "tags": []
   },
   "outputs": [
    {
     "data": {
      "text/html": [
       "<div>\n",
       "<style scoped>\n",
       "    .dataframe tbody tr th:only-of-type {\n",
       "        vertical-align: middle;\n",
       "    }\n",
       "\n",
       "    .dataframe tbody tr th {\n",
       "        vertical-align: top;\n",
       "    }\n",
       "\n",
       "    .dataframe thead th {\n",
       "        text-align: right;\n",
       "    }\n",
       "</style>\n",
       "<table border=\"1\" class=\"dataframe\">\n",
       "  <thead>\n",
       "    <tr style=\"text-align: right;\">\n",
       "      <th></th>\n",
       "      <th>Fastest_shipment</th>\n",
       "      <th>Avg_shipment</th>\n",
       "    </tr>\n",
       "  </thead>\n",
       "  <tbody>\n",
       "    <tr>\n",
       "      <th>0</th>\n",
       "      <td>5.0</td>\n",
       "      <td>2.0</td>\n",
       "    </tr>\n",
       "    <tr>\n",
       "      <th>1</th>\n",
       "      <td>2.0</td>\n",
       "      <td>2.0</td>\n",
       "    </tr>\n",
       "    <tr>\n",
       "      <th>2</th>\n",
       "      <td>2.0</td>\n",
       "      <td>1.0</td>\n",
       "    </tr>\n",
       "    <tr>\n",
       "      <th>3</th>\n",
       "      <td>6.0</td>\n",
       "      <td>4.0</td>\n",
       "    </tr>\n",
       "    <tr>\n",
       "      <th>4</th>\n",
       "      <td>2.0</td>\n",
       "      <td>1.0</td>\n",
       "    </tr>\n",
       "  </tbody>\n",
       "</table>\n",
       "</div>"
      ],
      "text/plain": [
       "   Fastest_shipment  Avg_shipment\n",
       "0               5.0           2.0\n",
       "1               2.0           2.0\n",
       "2               2.0           1.0\n",
       "3               6.0           4.0\n",
       "4               2.0           1.0"
      ]
     },
     "execution_count": 24,
     "metadata": {},
     "output_type": "execute_result"
    }
   ],
   "source": [
    "#Converting the predicted output array to dataframe\n",
    "Prediction = pd.DataFrame(pred)\n",
    "prediction = Prediction.rename(columns={0:'Fastest_shipment',1:'Avg_shipment'})\n",
    "prediction.head()"
   ]
  },
  {
   "cell_type": "markdown",
   "metadata": {
    "papermill": {
     "duration": 0.022332,
     "end_time": "2020-08-26T14:47:07.071143",
     "exception": false,
     "start_time": "2020-08-26T14:47:07.048811",
     "status": "completed"
    },
    "tags": []
   },
   "source": [
    "* Using Fastest product shipment and Normal shipment duration(in days) features from predictions\n",
    "* Risk in delivery is a feature that highly corresponds and correlates to Fastest Shipment and Avg_shipment duration in days. If the fastest shipment duration is greater than avg_shipment, then late delivery risk is heavier as the scheduled days are outnumbered. Similarly, if avg_shipment values are greater than former, then there is a high probability for FAST/EARLY delivery of goods to customers"
   ]
  },
  {
   "cell_type": "code",
   "execution_count": 25,
   "metadata": {
    "execution": {
     "iopub.execute_input": "2020-08-26T14:47:07.123113Z",
     "iopub.status.busy": "2020-08-26T14:47:07.121951Z",
     "iopub.status.idle": "2020-08-26T14:47:07.126991Z",
     "shell.execute_reply": "2020-08-26T14:47:07.127489Z"
    },
    "papermill": {
     "duration": 0.034352,
     "end_time": "2020-08-26T14:47:07.127649",
     "exception": false,
     "start_time": "2020-08-26T14:47:07.093297",
     "status": "completed"
    },
    "tags": []
   },
   "outputs": [],
   "source": [
    "# Statiscal modelling\n",
    "prediction['risk'] = np.where(prediction['Avg_shipment'] >= prediction['Fastest_shipment'],0,1)"
   ]
  },
  {
   "cell_type": "code",
   "execution_count": 26,
   "metadata": {
    "execution": {
     "iopub.execute_input": "2020-08-26T14:47:07.170000Z",
     "iopub.status.busy": "2020-08-26T14:47:07.169194Z",
     "iopub.status.idle": "2020-08-26T14:47:07.174281Z",
     "shell.execute_reply": "2020-08-26T14:47:07.173628Z"
    },
    "papermill": {
     "duration": 0.031191,
     "end_time": "2020-08-26T14:47:07.174391",
     "exception": false,
     "start_time": "2020-08-26T14:47:07.143200",
     "status": "completed"
    },
    "tags": []
   },
   "outputs": [
    {
     "data": {
      "text/html": [
       "<div>\n",
       "<style scoped>\n",
       "    .dataframe tbody tr th:only-of-type {\n",
       "        vertical-align: middle;\n",
       "    }\n",
       "\n",
       "    .dataframe tbody tr th {\n",
       "        vertical-align: top;\n",
       "    }\n",
       "\n",
       "    .dataframe thead th {\n",
       "        text-align: right;\n",
       "    }\n",
       "</style>\n",
       "<table border=\"1\" class=\"dataframe\">\n",
       "  <thead>\n",
       "    <tr style=\"text-align: right;\">\n",
       "      <th></th>\n",
       "      <th>Fastest_shipment</th>\n",
       "      <th>Avg_shipment</th>\n",
       "      <th>risk</th>\n",
       "    </tr>\n",
       "  </thead>\n",
       "  <tbody>\n",
       "    <tr>\n",
       "      <th>0</th>\n",
       "      <td>5.0</td>\n",
       "      <td>2.0</td>\n",
       "      <td>1</td>\n",
       "    </tr>\n",
       "    <tr>\n",
       "      <th>1</th>\n",
       "      <td>2.0</td>\n",
       "      <td>2.0</td>\n",
       "      <td>0</td>\n",
       "    </tr>\n",
       "    <tr>\n",
       "      <th>2</th>\n",
       "      <td>2.0</td>\n",
       "      <td>1.0</td>\n",
       "      <td>1</td>\n",
       "    </tr>\n",
       "    <tr>\n",
       "      <th>3</th>\n",
       "      <td>6.0</td>\n",
       "      <td>4.0</td>\n",
       "      <td>1</td>\n",
       "    </tr>\n",
       "    <tr>\n",
       "      <th>4</th>\n",
       "      <td>2.0</td>\n",
       "      <td>1.0</td>\n",
       "      <td>1</td>\n",
       "    </tr>\n",
       "  </tbody>\n",
       "</table>\n",
       "</div>"
      ],
      "text/plain": [
       "   Fastest_shipment  Avg_shipment  risk\n",
       "0               5.0           2.0     1\n",
       "1               2.0           2.0     0\n",
       "2               2.0           1.0     1\n",
       "3               6.0           4.0     1\n",
       "4               2.0           1.0     1"
      ]
     },
     "execution_count": 26,
     "metadata": {},
     "output_type": "execute_result"
    }
   ],
   "source": [
    "prediction.head()"
   ]
  },
  {
   "cell_type": "code",
   "execution_count": 27,
   "metadata": {
    "execution": {
     "iopub.execute_input": "2020-08-26T14:47:07.214966Z",
     "iopub.status.busy": "2020-08-26T14:47:07.214148Z",
     "iopub.status.idle": "2020-08-26T14:47:07.221517Z",
     "shell.execute_reply": "2020-08-26T14:47:07.222154Z"
    },
    "papermill": {
     "duration": 0.032104,
     "end_time": "2020-08-26T14:47:07.222324",
     "exception": false,
     "start_time": "2020-08-26T14:47:07.190220",
     "status": "completed"
    },
    "tags": []
   },
   "outputs": [
    {
     "data": {
      "text/plain": [
       "((36104,), (36104,))"
      ]
     },
     "execution_count": 27,
     "metadata": {},
     "output_type": "execute_result"
    }
   ],
   "source": [
    "l = prediction['risk']\n",
    "m = x_test['Late_delivery_risk']\n",
    "l.shape,m.shape"
   ]
  },
  {
   "cell_type": "markdown",
   "metadata": {
    "papermill": {
     "duration": 0.015969,
     "end_time": "2020-08-26T14:47:07.254449",
     "exception": false,
     "start_time": "2020-08-26T14:47:07.238480",
     "status": "completed"
    },
    "tags": []
   },
   "source": [
    "# Classification Model Evaluation"
   ]
  },
  {
   "cell_type": "code",
   "execution_count": 28,
   "metadata": {
    "execution": {
     "iopub.execute_input": "2020-08-26T14:47:07.295629Z",
     "iopub.status.busy": "2020-08-26T14:47:07.294735Z",
     "iopub.status.idle": "2020-08-26T14:47:07.298802Z",
     "shell.execute_reply": "2020-08-26T14:47:07.298225Z"
    },
    "papermill": {
     "duration": 0.028472,
     "end_time": "2020-08-26T14:47:07.298956",
     "exception": false,
     "start_time": "2020-08-26T14:47:07.270484",
     "status": "completed"
    },
    "tags": []
   },
   "outputs": [],
   "source": [
    "# Defining a function to evaluate our statiscal model for Late_delivery_risk_prediction\n",
    "def evaluation_risk_factor(l,m):\n",
    "  print('1) The accuracy of the risk predictor model is :',accuracy_score(l,m))\n",
    "  print('2) The AUROC score is :',roc_auc_score(l,m))\n",
    "  print('3) Some of the key classification metrics are :')\n",
    "  print(classification_report(l,m))\n",
    "  ax=plt.subplot()\n",
    "  sns.heatmap(confusion_matrix(l,m),annot=True,ax=ax);\n",
    "  ax.set_xlabel('Predicted labels'); ax.set_ylabel('True labels')\n",
    "  ax.set_title('Confusion matrix for Risk Delivery classfication');"
   ]
  },
  {
   "cell_type": "code",
   "execution_count": 29,
   "metadata": {
    "execution": {
     "iopub.execute_input": "2020-08-26T14:47:07.337538Z",
     "iopub.status.busy": "2020-08-26T14:47:07.336444Z",
     "iopub.status.idle": "2020-08-26T14:47:07.680878Z",
     "shell.execute_reply": "2020-08-26T14:47:07.680221Z"
    },
    "papermill": {
     "duration": 0.365829,
     "end_time": "2020-08-26T14:47:07.680987",
     "exception": false,
     "start_time": "2020-08-26T14:47:07.315158",
     "status": "completed"
    },
    "tags": []
   },
   "outputs": [
    {
     "name": "stdout",
     "output_type": "stream",
     "text": [
      "1) The accuracy of the risk predictor model is : 0.975404387325504\n",
      "2) The AUROC score is : 0.9784675072744908\n",
      "3) Some of the key classification metrics are :\n",
      "              precision    recall  f1-score   support\n",
      "\n",
      "           0       0.95      1.00      0.97     15484\n",
      "           1       1.00      0.96      0.98     20620\n",
      "\n",
      "    accuracy                           0.98     36104\n",
      "   macro avg       0.97      0.98      0.98     36104\n",
      "weighted avg       0.98      0.98      0.98     36104\n",
      "\n"
     ]
    },
    {
     "data": {
      "image/png": "[encoded data removed]",
      "text/plain": [
       "<Figure size 432x288 with 2 Axes>"
      ]
     },
     "metadata": {
      "needs_background": "light"
     },
     "output_type": "display_data"
    }
   ],
   "source": [
    "evaluation_risk_factor(l,m)"
   ]
  },
  {
   "cell_type": "code",
   "execution_count": 30,
   "metadata": {
    "execution": {
     "iopub.execute_input": "2020-08-26T14:47:07.722038Z",
     "iopub.status.busy": "2020-08-26T14:47:07.721101Z",
     "iopub.status.idle": "2020-08-26T14:47:07.865628Z",
     "shell.execute_reply": "2020-08-26T14:47:07.866148Z"
    },
    "papermill": {
     "duration": 0.168716,
     "end_time": "2020-08-26T14:47:07.866294",
     "exception": false,
     "start_time": "2020-08-26T14:47:07.697578",
     "status": "completed"
    },
    "tags": []
   },
   "outputs": [
    {
     "data": {
      "image/png": "[encoded data removed]",
      "text/plain": [
       "<Figure size 432x288 with 1 Axes>"
      ]
     },
     "metadata": {},
     "output_type": "display_data"
    }
   ],
   "source": [
    "sns.set(style=\"darkgrid\")\n",
    "ax=sns.countplot(x=\"risk\",data=prediction).set_title('Predicted Late delivery risks')"
   ]
  },
  {
   "cell_type": "code",
   "execution_count": 31,
   "metadata": {
    "execution": {
     "iopub.execute_input": "2020-08-26T14:47:07.904337Z",
     "iopub.status.busy": "2020-08-26T14:47:07.903696Z",
     "iopub.status.idle": "2020-08-26T14:47:08.052092Z",
     "shell.execute_reply": "2020-08-26T14:47:08.051555Z"
    },
    "papermill": {
     "duration": 0.169677,
     "end_time": "2020-08-26T14:47:08.052200",
     "exception": false,
     "start_time": "2020-08-26T14:47:07.882523",
     "status": "completed"
    },
    "tags": []
   },
   "outputs": [
    {
     "data": {
      "image/png": "[encoded data removed]",
      "text/plain": [
       "<Figure size 432x288 with 1 Axes>"
      ]
     },
     "metadata": {},
     "output_type": "display_data"
    }
   ],
   "source": [
    "bx=sns.countplot(x='Late_delivery_risk',data=x_test).set_title('Actual Late_delivery_risk')"
   ]
  },
  {
   "cell_type": "markdown",
   "metadata": {
    "papermill": {
     "duration": 0.016008,
     "end_time": "2020-08-26T14:47:08.084552",
     "exception": false,
     "start_time": "2020-08-26T14:47:08.068544",
     "status": "completed"
    },
    "tags": []
   },
   "source": [
    "# Saving the trained regression model to pickle file"
   ]
  },
  {
   "cell_type": "code",
   "execution_count": 32,
   "metadata": {
    "execution": {
     "iopub.execute_input": "2020-08-26T14:47:08.122886Z",
     "iopub.status.busy": "2020-08-26T14:47:08.121882Z",
     "iopub.status.idle": "2020-08-26T14:47:08.127609Z",
     "shell.execute_reply": "2020-08-26T14:47:08.126973Z"
    },
    "papermill": {
     "duration": 0.027129,
     "end_time": "2020-08-26T14:47:08.127707",
     "exception": false,
     "start_time": "2020-08-26T14:47:08.100578",
     "status": "completed"
    },
    "tags": []
   },
   "outputs": [],
   "source": [
    "filename = 'Shipping_time_estimator.pkl'\n",
    "pickle.dump(model,open(filename,'wb'))"
   ]
  },
  {
   "cell_type": "code",
   "execution_count": null,
   "metadata": {},
   "outputs": [],
   "source": []
  }
 ],
 "metadata": {
  "kernelspec": {
   "display_name": "venv",
   "language": "python",
   "name": "venv"
  },
  "language_info": {
   "codemirror_mode": {
    "name": "ipython",
    "version": 3
   },
   "file_extension": ".py",
   "mimetype": "text/x-python",
   "name": "python",
   "nbconvert_exporter": "python",
   "pygments_lexer": "ipython3",
   "version": "3.8.8"
  },
  "papermill": {
   "duration": 148.420703,
   "end_time": "2020-08-26T14:47:08.251461",
   "environment_variables": {},
   "exception": null,
   "input_path": "__notebook__.ipynb",
   "output_path": "__notebook__.ipynb",
   "parameters": {},
   "start_time": "2020-08-26T14:44:39.830758",
   "version": "2.1.0"
  }
 },
 "nbformat": 4,
 "nbformat_minor": 4
}
